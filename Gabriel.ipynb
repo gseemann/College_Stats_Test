{
 "cells": [
  {
   "cell_type": "code",
   "execution_count": 1,
   "metadata": {},
   "outputs": [],
   "source": [
    "#imports personal details to connect to db\n",
    "import config\n",
    "#import our function files\n",
    "import query_helper\n",
    "import payscale_uni_webscrape\n",
    "\n",
    "\n",
    "import json\n",
    "import requests\n",
    "from bs4 import BeautifulSoup\n",
    "api_key = config.API_key\n",
    "import time \n",
    "import mysql.connector\n",
    "from mysql.connector import errorcode\n",
    "import pandas as pd\n",
    "import numpy as np\n",
    "import matplotlib.pyplot as plt\n",
    "%matplotlib inline\n",
    "import seaborn as sns\n",
    "import statistics\n",
    "import math\n",
    "import scipy.stats as stats\n",
    "from scipy import stats\n",
    "from statsmodels.stats.power import TTestIndPower"
   ]
  },
  {
   "cell_type": "markdown",
   "metadata": {},
   "source": [
    "# Below 2 cells creates database"
   ]
  },
  {
   "cell_type": "code",
   "execution_count": 2,
   "metadata": {},
   "outputs": [],
   "source": [
    "# db_name = 'colleges'\n",
    "# ## Connect to DB server on AWS\n",
    "# ## connecting to the database using 'connect()' method\n",
    "# ## it takes 3 required parameters 'host', 'user', 'passwd'\n",
    "# cnx = mysql.connector.connect(\n",
    "#     host = config.host,\n",
    "#     user = config.user,\n",
    "#     passwd = config.password,\n",
    "#     database = \"colleges\"       #can say what database we expect everything loaded into\n",
    "# )\n",
    "# cursor = cnx.cursor()"
   ]
  },
  {
   "cell_type": "code",
   "execution_count": 3,
   "metadata": {},
   "outputs": [],
   "source": [
    "# def create_database(cursor, database):\n",
    "#     try:\n",
    "#         cursor.execute(\n",
    "#             \"CREATE DATABASE {} DEFAULT CHARACTER SET 'utf8'\".format(database))\n",
    "#     except mysql.connector.Error as err:\n",
    "#         print(\"Failed creating database: {}\".format(err))\n",
    "#         exit(1)\n",
    "\n",
    "# try:\n",
    "#     cursor.execute(\"USE {}\".format(db_name))\n",
    "# except mysql.connector.Error as err:\n",
    "#     print(\"Database {} does not exists.\".format(db_name))\n",
    "#     if err.errno == errorcode.ER_BAD_DB_ERROR:\n",
    "#         create_database(cursor, db_name)\n",
    "#         print(\"Database {} created successfully.\".format(db_name))\n",
    "#         cnx.database = db_name\n",
    "#     else:\n",
    "#         print(err)\n",
    "#         exit(1)"
   ]
  },
  {
   "cell_type": "code",
   "execution_count": 4,
   "metadata": {},
   "outputs": [
    {
     "data": {
      "text/plain": [
       "(1086, 24)"
      ]
     },
     "execution_count": 4,
     "metadata": {},
     "output_type": "execute_result"
    }
   ],
   "source": [
    "query ='''\n",
    "SELECT \n",
    "    *\n",
    "FROM \n",
    "    payscale_colleges\n",
    "INNER JOIN college_info \n",
    "    ON college = uni;\n",
    "    '''\n",
    "df_joined = query_helper.query_to_df(query)\n",
    "df_joined.shape"
   ]
  },
  {
   "cell_type": "code",
   "execution_count": 5,
   "metadata": {},
   "outputs": [
    {
     "data": {
      "text/plain": [
       "(1086, 24)"
      ]
     },
     "execution_count": 5,
     "metadata": {},
     "output_type": "execute_result"
    }
   ],
   "source": [
    "query ='''\n",
    "SELECT \n",
    "    *\n",
    "FROM \n",
    "    college_info\n",
    "OUTTER JOIN payscale_colleges \n",
    "    ON college = uni;\n",
    "    '''\n",
    "df_outter = query_helper.query_to_df(query)\n",
    "df_outter.shape"
   ]
  },
  {
   "cell_type": "code",
   "execution_count": null,
   "metadata": {},
   "outputs": [],
   "source": [
    "db_name = 'colleges'\n",
    "## Connect to DB server on AWS\n",
    "## connecting to the database using 'connect()' method\n",
    "## it takes 3 required parameters 'host', 'user', 'passwd'\n",
    "cnx = mysql.connector.connect(\n",
    "    host = config.host,\n",
    "    user = config.user,\n",
    "    passwd = config.password,\n",
    "    database = \"colleges\"       #can say what database we expect everything loaded into\n",
    ")\n",
    "cursor = cnx.cursor()"
   ]
  },
  {
   "cell_type": "code",
   "execution_count": null,
   "metadata": {},
   "outputs": [],
   "source": [
    "def create_database(cursor, database):\n",
    "    try:\n",
    "        cursor.execute(\n",
    "            \"CREATE DATABASE {} DEFAULT CHARACTER SET 'utf8'\".format(database))\n",
    "    except mysql.connector.Error as err:\n",
    "        print(\"Failed creating database: {}\".format(err))\n",
    "        exit(1)\n",
    "\n",
    "try:\n",
    "    cursor.execute(\"USE {}\".format(db_name))\n",
    "except mysql.connector.Error as err:\n",
    "    print(\"Database {} does not exists.\".format(db_name))\n",
    "    if err.errno == errorcode.ER_BAD_DB_ERROR:\n",
    "        create_database(cursor, db_name)\n",
    "        print(\"Database {} created successfully.\".format(db_name))\n",
    "        cnx.database = db_name\n",
    "    else:\n",
    "        print(err)\n",
    "        exit(1)"
   ]
  },
  {
   "cell_type": "code",
   "execution_count": 7,
   "metadata": {},
   "outputs": [],
   "source": [
    "#write a query entry to creat a table\n",
    "payscale_colleges = \"\"\"\n",
    "CREATE TABLE payscale_colleges (\n",
    "      uni varchar(100) PRIMARY KEY,\n",
    "      uni_type varchar(100),\n",
    "      early_car_pay int,\n",
    "      mid_car_pay int,\n",
    "      high_meaning float,\n",
    "      stem_deg float\n",
    "    );\n",
    "\"\"\""
   ]
  },
  {
   "cell_type": "code",
   "execution_count": 8,
   "metadata": {},
   "outputs": [
    {
     "name": "stdout",
     "output_type": "stream",
     "text": [
      "Creating a new table\n",
      "already exists.\n"
     ]
    }
   ],
   "source": [
    "query_helper.create_table(payscale_colleges)"
   ]
  },
  {
   "cell_type": "code",
   "execution_count": 132,
   "metadata": {},
   "outputs": [
    {
     "data": {
      "text/html": [
       "<div>\n",
       "<style scoped>\n",
       "    .dataframe tbody tr th:only-of-type {\n",
       "        vertical-align: middle;\n",
       "    }\n",
       "\n",
       "    .dataframe tbody tr th {\n",
       "        vertical-align: top;\n",
       "    }\n",
       "\n",
       "    .dataframe thead th {\n",
       "        text-align: right;\n",
       "    }\n",
       "</style>\n",
       "<table border=\"1\" class=\"dataframe\">\n",
       "  <thead>\n",
       "    <tr style=\"text-align: right;\">\n",
       "      <th></th>\n",
       "      <th>college</th>\n",
       "      <th>private</th>\n",
       "      <th>total_undergrad</th>\n",
       "      <th>entrance_difficulty</th>\n",
       "      <th>admission_rate</th>\n",
       "      <th>avg_gpa</th>\n",
       "      <th>SAT_math_avg</th>\n",
       "      <th>SAT_EBRW_avg</th>\n",
       "      <th>total_cost</th>\n",
       "      <th>in_cost</th>\n",
       "      <th>out_cost</th>\n",
       "      <th>tuition</th>\n",
       "      <th>in_tuition</th>\n",
       "      <th>out_tuition</th>\n",
       "      <th>room_and_board</th>\n",
       "      <th>avg_pcent_need_met</th>\n",
       "      <th>avg_f_award</th>\n",
       "      <th>avg_indebted</th>\n",
       "    </tr>\n",
       "  </thead>\n",
       "  <tbody>\n",
       "    <tr>\n",
       "      <th>0</th>\n",
       "      <td>Abilene Christian University</td>\n",
       "      <td>1</td>\n",
       "      <td>3670</td>\n",
       "      <td>Moderately difficult</td>\n",
       "      <td>51.0</td>\n",
       "      <td>4.0</td>\n",
       "      <td>558.0</td>\n",
       "      <td>566.0</td>\n",
       "      <td>49792</td>\n",
       "      <td>NaN</td>\n",
       "      <td>NaN</td>\n",
       "      <td>34850</td>\n",
       "      <td>NaN</td>\n",
       "      <td>NaN</td>\n",
       "      <td>10350</td>\n",
       "      <td>71</td>\n",
       "      <td>26051</td>\n",
       "      <td>None</td>\n",
       "    </tr>\n",
       "    <tr>\n",
       "      <th>1</th>\n",
       "      <td>Adams State University</td>\n",
       "      <td>0</td>\n",
       "      <td>1991</td>\n",
       "      <td>Moderately difficult</td>\n",
       "      <td>99.0</td>\n",
       "      <td>3.0</td>\n",
       "      <td>480.0</td>\n",
       "      <td>495.0</td>\n",
       "      <td>None</td>\n",
       "      <td>22893.0</td>\n",
       "      <td>33909.0</td>\n",
       "      <td>None</td>\n",
       "      <td>9440.0</td>\n",
       "      <td>20456.0</td>\n",
       "      <td>8782</td>\n",
       "      <td>70</td>\n",
       "      <td>14726</td>\n",
       "      <td>22822</td>\n",
       "    </tr>\n",
       "    <tr>\n",
       "      <th>2</th>\n",
       "      <td>Adelphi University</td>\n",
       "      <td>1</td>\n",
       "      <td>5391</td>\n",
       "      <td>Moderately difficult</td>\n",
       "      <td>74.0</td>\n",
       "      <td>4.0</td>\n",
       "      <td>590.0</td>\n",
       "      <td>586.0</td>\n",
       "      <td>58710</td>\n",
       "      <td>NaN</td>\n",
       "      <td>NaN</td>\n",
       "      <td>38660</td>\n",
       "      <td>NaN</td>\n",
       "      <td>NaN</td>\n",
       "      <td>16030</td>\n",
       "      <td>44</td>\n",
       "      <td>22900</td>\n",
       "      <td>34980</td>\n",
       "    </tr>\n",
       "    <tr>\n",
       "      <th>3</th>\n",
       "      <td>Adrian College</td>\n",
       "      <td>1</td>\n",
       "      <td>1647</td>\n",
       "      <td>Moderately difficult</td>\n",
       "      <td>56.0</td>\n",
       "      <td>3.0</td>\n",
       "      <td>NaN</td>\n",
       "      <td>NaN</td>\n",
       "      <td>None</td>\n",
       "      <td>NaN</td>\n",
       "      <td>NaN</td>\n",
       "      <td>None</td>\n",
       "      <td>NaN</td>\n",
       "      <td>NaN</td>\n",
       "      <td>None</td>\n",
       "      <td>77</td>\n",
       "      <td>27013</td>\n",
       "      <td>27741</td>\n",
       "    </tr>\n",
       "    <tr>\n",
       "      <th>4</th>\n",
       "      <td>Agnes Scott College</td>\n",
       "      <td>1</td>\n",
       "      <td>996</td>\n",
       "      <td>Moderately difficult</td>\n",
       "      <td>70.0</td>\n",
       "      <td>4.0</td>\n",
       "      <td>580.0</td>\n",
       "      <td>627.0</td>\n",
       "      <td>57505</td>\n",
       "      <td>NaN</td>\n",
       "      <td>NaN</td>\n",
       "      <td>42690</td>\n",
       "      <td>NaN</td>\n",
       "      <td>NaN</td>\n",
       "      <td>12670</td>\n",
       "      <td>84</td>\n",
       "      <td>37669</td>\n",
       "      <td>30850</td>\n",
       "    </tr>\n",
       "  </tbody>\n",
       "</table>\n",
       "</div>"
      ],
      "text/plain": [
       "                        college private total_undergrad   entrance_difficulty  \\\n",
       "0  Abilene Christian University       1            3670  Moderately difficult   \n",
       "1        Adams State University       0            1991  Moderately difficult   \n",
       "2            Adelphi University       1            5391  Moderately difficult   \n",
       "3                Adrian College       1            1647  Moderately difficult   \n",
       "4           Agnes Scott College       1             996  Moderately difficult   \n",
       "\n",
       "   admission_rate  avg_gpa  SAT_math_avg  SAT_EBRW_avg total_cost  in_cost  \\\n",
       "0            51.0      4.0         558.0         566.0      49792      NaN   \n",
       "1            99.0      3.0         480.0         495.0       None  22893.0   \n",
       "2            74.0      4.0         590.0         586.0      58710      NaN   \n",
       "3            56.0      3.0           NaN           NaN       None      NaN   \n",
       "4            70.0      4.0         580.0         627.0      57505      NaN   \n",
       "\n",
       "   out_cost tuition  in_tuition  out_tuition room_and_board  \\\n",
       "0       NaN   34850         NaN          NaN          10350   \n",
       "1   33909.0    None      9440.0      20456.0           8782   \n",
       "2       NaN   38660         NaN          NaN          16030   \n",
       "3       NaN    None         NaN          NaN           None   \n",
       "4       NaN   42690         NaN          NaN          12670   \n",
       "\n",
       "  avg_pcent_need_met avg_f_award avg_indebted  \n",
       "0                 71       26051         None  \n",
       "1                 70       14726        22822  \n",
       "2                 44       22900        34980  \n",
       "3                 77       27013        27741  \n",
       "4                 84       37669        30850  "
      ]
     },
     "execution_count": 132,
     "metadata": {},
     "output_type": "execute_result"
    }
   ],
   "source": [
    "df_sasha = query_helper.query_to_df('SELECT * FROM college_info;')\n",
    "df_sasha.entrance_difficulty.unique()\n",
    "df_sasha.head()\n"
   ]
  },
  {
   "cell_type": "code",
   "execution_count": 3,
   "metadata": {
    "collapsed": true
   },
   "outputs": [
    {
     "ename": "KeyboardInterrupt",
     "evalue": "",
     "output_type": "error",
     "traceback": [
      "\u001b[0;31m---------------------------------------------------------------------------\u001b[0m",
      "\u001b[0;31mKeyboardInterrupt\u001b[0m                         Traceback (most recent call last)",
      "\u001b[0;32m<ipython-input-3-8e1767f52d1a>\u001b[0m in \u001b[0;36m<module>\u001b[0;34m\u001b[0m\n\u001b[1;32m      8\u001b[0m \u001b[0;34m\u001b[0m\u001b[0m\n\u001b[1;32m      9\u001b[0m     \u001b[0;31m#put infor into tuples and commit to db\u001b[0m\u001b[0;34m\u001b[0m\u001b[0;34m\u001b[0m\u001b[0;34m\u001b[0m\u001b[0m\n\u001b[0;32m---> 10\u001b[0;31m     \u001b[0mquery_helper\u001b[0m\u001b[0;34m.\u001b[0m\u001b[0mtuple_payscale_uni\u001b[0m\u001b[0;34m(\u001b[0m\u001b[0mlist_of_dict\u001b[0m\u001b[0;34m)\u001b[0m\u001b[0;34m\u001b[0m\u001b[0;34m\u001b[0m\u001b[0m\n\u001b[0m\u001b[1;32m     11\u001b[0m \u001b[0;34m\u001b[0m\u001b[0m\n\u001b[1;32m     12\u001b[0m     \u001b[0;31m#iterate and loop\u001b[0m\u001b[0;34m\u001b[0m\u001b[0;34m\u001b[0m\u001b[0;34m\u001b[0m\u001b[0m\n",
      "\u001b[0;32m~/Documents/Mod_2_Proj/College_Stats_Test/query_helper.py\u001b[0m in \u001b[0;36mtuple_payscale_uni\u001b[0;34m(uni_dict)\u001b[0m\n\u001b[1;32m    106\u001b[0m               uni['stem_deg'])\n\u001b[1;32m    107\u001b[0m         \u001b[0mlist_of_tuples\u001b[0m\u001b[0;34m.\u001b[0m\u001b[0mappend\u001b[0m\u001b[0;34m(\u001b[0m\u001b[0mtemp_tuple\u001b[0m\u001b[0;34m)\u001b[0m\u001b[0;34m\u001b[0m\u001b[0;34m\u001b[0m\u001b[0m\n\u001b[0;32m--> 108\u001b[0;31m     \u001b[0mdb_insert_uni\u001b[0m\u001b[0;34m(\u001b[0m\u001b[0mlist_of_tuples\u001b[0m\u001b[0;34m)\u001b[0m\u001b[0;34m\u001b[0m\u001b[0;34m\u001b[0m\u001b[0m\n\u001b[0m\u001b[1;32m    109\u001b[0m \u001b[0;34m\u001b[0m\u001b[0m\n\u001b[1;32m    110\u001b[0m \u001b[0;34m\u001b[0m\u001b[0m\n",
      "\u001b[0;32m~/Documents/Mod_2_Proj/College_Stats_Test/query_helper.py\u001b[0m in \u001b[0;36mdb_insert_uni\u001b[0;34m(uni_tuple_list)\u001b[0m\n\u001b[1;32m     89\u001b[0m                    stem_deg)\n\u001b[1;32m     90\u001b[0m                    VALUES (%s,%s,%s,%s,%s,%s)\"\"\"\n\u001b[0;32m---> 91\u001b[0;31m     \u001b[0mcursor\u001b[0m\u001b[0;34m.\u001b[0m\u001b[0mexecutemany\u001b[0m\u001b[0;34m(\u001b[0m\u001b[0minsert_statement\u001b[0m\u001b[0;34m,\u001b[0m \u001b[0muni_tuple_list\u001b[0m\u001b[0;34m)\u001b[0m\u001b[0;34m\u001b[0m\u001b[0;34m\u001b[0m\u001b[0m\n\u001b[0m\u001b[1;32m     92\u001b[0m     \u001b[0mcnx\u001b[0m\u001b[0;34m.\u001b[0m\u001b[0mcommit\u001b[0m\u001b[0;34m(\u001b[0m\u001b[0;34m)\u001b[0m\u001b[0;34m\u001b[0m\u001b[0;34m\u001b[0m\u001b[0m\n\u001b[1;32m     93\u001b[0m     \u001b[0mcursor\u001b[0m\u001b[0;34m.\u001b[0m\u001b[0mclose\u001b[0m\u001b[0;34m(\u001b[0m\u001b[0;34m)\u001b[0m\u001b[0;34m\u001b[0m\u001b[0;34m\u001b[0m\u001b[0m\n",
      "\u001b[0;32m~/anaconda3/lib/python3.7/site-packages/mysql/connector/cursor_cext.py\u001b[0m in \u001b[0;36mexecutemany\u001b[0;34m(self, operation, seq_params)\u001b[0m\n\u001b[1;32m    355\u001b[0m         \u001b[0;32mtry\u001b[0m\u001b[0;34m:\u001b[0m\u001b[0;34m\u001b[0m\u001b[0;34m\u001b[0m\u001b[0m\n\u001b[1;32m    356\u001b[0m             \u001b[0;32mfor\u001b[0m \u001b[0mparams\u001b[0m \u001b[0;32min\u001b[0m \u001b[0mseq_params\u001b[0m\u001b[0;34m:\u001b[0m\u001b[0;34m\u001b[0m\u001b[0;34m\u001b[0m\u001b[0m\n\u001b[0;32m--> 357\u001b[0;31m                 \u001b[0mself\u001b[0m\u001b[0;34m.\u001b[0m\u001b[0mexecute\u001b[0m\u001b[0;34m(\u001b[0m\u001b[0moperation\u001b[0m\u001b[0;34m,\u001b[0m \u001b[0mparams\u001b[0m\u001b[0;34m)\u001b[0m\u001b[0;34m\u001b[0m\u001b[0;34m\u001b[0m\u001b[0m\n\u001b[0m\u001b[1;32m    358\u001b[0m                 \u001b[0;32mtry\u001b[0m\u001b[0;34m:\u001b[0m\u001b[0;34m\u001b[0m\u001b[0;34m\u001b[0m\u001b[0m\n\u001b[1;32m    359\u001b[0m                     \u001b[0;32mwhile\u001b[0m \u001b[0;32mTrue\u001b[0m\u001b[0;34m:\u001b[0m\u001b[0;34m\u001b[0m\u001b[0;34m\u001b[0m\u001b[0m\n",
      "\u001b[0;32m~/anaconda3/lib/python3.7/site-packages/mysql/connector/cursor_cext.py\u001b[0m in \u001b[0;36mexecute\u001b[0;34m(self, operation, params, multi)\u001b[0m\n\u001b[1;32m    264\u001b[0m             result = self._cnx.cmd_query(stmt, raw=self._raw,\n\u001b[1;32m    265\u001b[0m                                          \u001b[0mbuffered\u001b[0m\u001b[0;34m=\u001b[0m\u001b[0mself\u001b[0m\u001b[0;34m.\u001b[0m\u001b[0m_buffered\u001b[0m\u001b[0;34m,\u001b[0m\u001b[0;34m\u001b[0m\u001b[0;34m\u001b[0m\u001b[0m\n\u001b[0;32m--> 266\u001b[0;31m                                          raw_as_string=self._raw_as_string)\n\u001b[0m\u001b[1;32m    267\u001b[0m         \u001b[0;32mexcept\u001b[0m \u001b[0mMySQLInterfaceError\u001b[0m \u001b[0;32mas\u001b[0m \u001b[0mexc\u001b[0m\u001b[0;34m:\u001b[0m\u001b[0;34m\u001b[0m\u001b[0;34m\u001b[0m\u001b[0m\n\u001b[1;32m    268\u001b[0m             raise errors.get_mysql_exception(msg=exc.msg, errno=exc.errno,\n",
      "\u001b[0;32m~/anaconda3/lib/python3.7/site-packages/mysql/connector/connection_cext.py\u001b[0m in \u001b[0;36mcmd_query\u001b[0;34m(self, query, raw, buffered, raw_as_string)\u001b[0m\n\u001b[1;32m    470\u001b[0m             self._cmysql.query(query,\n\u001b[1;32m    471\u001b[0m                                \u001b[0mraw\u001b[0m\u001b[0;34m=\u001b[0m\u001b[0mraw\u001b[0m\u001b[0;34m,\u001b[0m \u001b[0mbuffered\u001b[0m\u001b[0;34m=\u001b[0m\u001b[0mbuffered\u001b[0m\u001b[0;34m,\u001b[0m\u001b[0;34m\u001b[0m\u001b[0;34m\u001b[0m\u001b[0m\n\u001b[0;32m--> 472\u001b[0;31m                                raw_as_string=raw_as_string)\n\u001b[0m\u001b[1;32m    473\u001b[0m         \u001b[0;32mexcept\u001b[0m \u001b[0mMySQLInterfaceError\u001b[0m \u001b[0;32mas\u001b[0m \u001b[0mexc\u001b[0m\u001b[0;34m:\u001b[0m\u001b[0;34m\u001b[0m\u001b[0;34m\u001b[0m\u001b[0m\n\u001b[1;32m    474\u001b[0m             raise errors.get_mysql_exception(exc.errno, msg=exc.msg,\n",
      "\u001b[0;31mKeyboardInterrupt\u001b[0m: "
     ]
    }
   ],
   "source": [
    "#Below code gets info for page then commits to db, repeats process on all pages\n",
    "#if we have duplicates they will be skipped on db commit process\n",
    "\n",
    "web_page_iterator = 1\n",
    "while web_page_iterator <64:\n",
    "    #scrape web infor for 1 page\n",
    "    list_of_dict = payscale_uni_webscrape.get_pages(web_page_iterator)\n",
    "\n",
    "    #put infor into tuples and commit to db\n",
    "    query_helper.tuple_payscale_uni(list_of_dict)\n",
    "    \n",
    "    #iterate and loop\n",
    "    web_page_iterator +=1\n",
    "    \n"
   ]
  },
  {
   "cell_type": "code",
   "execution_count": 4,
   "metadata": {},
   "outputs": [],
   "source": [
    "df = query_helper.query_to_df('SELECT * FROM payscale_colleges')"
   ]
  },
  {
   "cell_type": "code",
   "execution_count": 5,
   "metadata": {},
   "outputs": [],
   "source": [
    "# df[df['early_car_pay']]\n",
    "df_private = df[df.uni_type.str.contains('Private')==True]"
   ]
  },
  {
   "cell_type": "code",
   "execution_count": 6,
   "metadata": {
    "scrolled": true
   },
   "outputs": [
    {
     "data": {
      "text/html": [
       "<div>\n",
       "<style scoped>\n",
       "    .dataframe tbody tr th:only-of-type {\n",
       "        vertical-align: middle;\n",
       "    }\n",
       "\n",
       "    .dataframe tbody tr th {\n",
       "        vertical-align: top;\n",
       "    }\n",
       "\n",
       "    .dataframe thead th {\n",
       "        text-align: right;\n",
       "    }\n",
       "</style>\n",
       "<table border=\"1\" class=\"dataframe\">\n",
       "  <thead>\n",
       "    <tr style=\"text-align: right;\">\n",
       "      <th></th>\n",
       "      <th>uni</th>\n",
       "      <th>uni_type</th>\n",
       "      <th>early_car_pay</th>\n",
       "      <th>mid_car_pay</th>\n",
       "      <th>high_meaning</th>\n",
       "      <th>stem_deg</th>\n",
       "      <th>Private</th>\n",
       "    </tr>\n",
       "  </thead>\n",
       "  <tbody>\n",
       "    <tr>\n",
       "      <th>0</th>\n",
       "      <td>Abilene Christian University</td>\n",
       "      <td>Private School, Religious, For Sports Fans</td>\n",
       "      <td>49700</td>\n",
       "      <td>90900</td>\n",
       "      <td>53.0</td>\n",
       "      <td>9.0</td>\n",
       "      <td>0</td>\n",
       "    </tr>\n",
       "    <tr>\n",
       "      <th>1</th>\n",
       "      <td>Adams State University</td>\n",
       "      <td>State School</td>\n",
       "      <td>44400</td>\n",
       "      <td>81400</td>\n",
       "      <td>56.0</td>\n",
       "      <td>3.0</td>\n",
       "      <td>0</td>\n",
       "    </tr>\n",
       "    <tr>\n",
       "      <th>2</th>\n",
       "      <td>Adelphi University</td>\n",
       "      <td>Private School, Research University</td>\n",
       "      <td>53700</td>\n",
       "      <td>96400</td>\n",
       "      <td>50.0</td>\n",
       "      <td>6.0</td>\n",
       "      <td>0</td>\n",
       "    </tr>\n",
       "    <tr>\n",
       "      <th>3</th>\n",
       "      <td>Adrian College</td>\n",
       "      <td>Private School, Religious</td>\n",
       "      <td>42400</td>\n",
       "      <td>78000</td>\n",
       "      <td>58.0</td>\n",
       "      <td>12.0</td>\n",
       "      <td>0</td>\n",
       "    </tr>\n",
       "    <tr>\n",
       "      <th>4</th>\n",
       "      <td>Adventist University of Health Sciences</td>\n",
       "      <td>Private School, Religious</td>\n",
       "      <td>51600</td>\n",
       "      <td>89800</td>\n",
       "      <td>88.0</td>\n",
       "      <td>5.0</td>\n",
       "      <td>0</td>\n",
       "    </tr>\n",
       "  </tbody>\n",
       "</table>\n",
       "</div>"
      ],
      "text/plain": [
       "                                       uni  \\\n",
       "0             Abilene Christian University   \n",
       "1                   Adams State University   \n",
       "2                       Adelphi University   \n",
       "3                           Adrian College   \n",
       "4  Adventist University of Health Sciences   \n",
       "\n",
       "                                     uni_type  early_car_pay  mid_car_pay  \\\n",
       "0  Private School, Religious, For Sports Fans          49700        90900   \n",
       "1                                State School          44400        81400   \n",
       "2         Private School, Research University          53700        96400   \n",
       "3                   Private School, Religious          42400        78000   \n",
       "4                   Private School, Religious          51600        89800   \n",
       "\n",
       "   high_meaning  stem_deg  Private  \n",
       "0          53.0       9.0        0  \n",
       "1          56.0       3.0        0  \n",
       "2          50.0       6.0        0  \n",
       "3          58.0      12.0        0  \n",
       "4          88.0       5.0        0  "
      ]
     },
     "execution_count": 6,
     "metadata": {},
     "output_type": "execute_result"
    }
   ],
   "source": [
    "df['Private'] = 0\n",
    "df.head()\n"
   ]
  },
  {
   "cell_type": "code",
   "execution_count": 7,
   "metadata": {},
   "outputs": [],
   "source": [
    "df[\"Private\"] = df.uni_type.apply(lambda x: 1 if \"Private\" in x else 0)"
   ]
  },
  {
   "cell_type": "code",
   "execution_count": 8,
   "metadata": {},
   "outputs": [
    {
     "data": {
      "text/html": [
       "<div>\n",
       "<style scoped>\n",
       "    .dataframe tbody tr th:only-of-type {\n",
       "        vertical-align: middle;\n",
       "    }\n",
       "\n",
       "    .dataframe tbody tr th {\n",
       "        vertical-align: top;\n",
       "    }\n",
       "\n",
       "    .dataframe thead th {\n",
       "        text-align: right;\n",
       "    }\n",
       "</style>\n",
       "<table border=\"1\" class=\"dataframe\">\n",
       "  <thead>\n",
       "    <tr style=\"text-align: right;\">\n",
       "      <th></th>\n",
       "      <th>uni</th>\n",
       "      <th>uni_type</th>\n",
       "      <th>early_car_pay</th>\n",
       "      <th>mid_car_pay</th>\n",
       "      <th>high_meaning</th>\n",
       "      <th>stem_deg</th>\n",
       "      <th>Private</th>\n",
       "    </tr>\n",
       "  </thead>\n",
       "  <tbody>\n",
       "    <tr>\n",
       "      <th>0</th>\n",
       "      <td>Abilene Christian University</td>\n",
       "      <td>Private School, Religious, For Sports Fans</td>\n",
       "      <td>49700</td>\n",
       "      <td>90900</td>\n",
       "      <td>53.0</td>\n",
       "      <td>9.0</td>\n",
       "      <td>1</td>\n",
       "    </tr>\n",
       "    <tr>\n",
       "      <th>1</th>\n",
       "      <td>Adams State University</td>\n",
       "      <td>State School</td>\n",
       "      <td>44400</td>\n",
       "      <td>81400</td>\n",
       "      <td>56.0</td>\n",
       "      <td>3.0</td>\n",
       "      <td>0</td>\n",
       "    </tr>\n",
       "    <tr>\n",
       "      <th>2</th>\n",
       "      <td>Adelphi University</td>\n",
       "      <td>Private School, Research University</td>\n",
       "      <td>53700</td>\n",
       "      <td>96400</td>\n",
       "      <td>50.0</td>\n",
       "      <td>6.0</td>\n",
       "      <td>1</td>\n",
       "    </tr>\n",
       "    <tr>\n",
       "      <th>3</th>\n",
       "      <td>Adrian College</td>\n",
       "      <td>Private School, Religious</td>\n",
       "      <td>42400</td>\n",
       "      <td>78000</td>\n",
       "      <td>58.0</td>\n",
       "      <td>12.0</td>\n",
       "      <td>1</td>\n",
       "    </tr>\n",
       "    <tr>\n",
       "      <th>4</th>\n",
       "      <td>Adventist University of Health Sciences</td>\n",
       "      <td>Private School, Religious</td>\n",
       "      <td>51600</td>\n",
       "      <td>89800</td>\n",
       "      <td>88.0</td>\n",
       "      <td>5.0</td>\n",
       "      <td>1</td>\n",
       "    </tr>\n",
       "  </tbody>\n",
       "</table>\n",
       "</div>"
      ],
      "text/plain": [
       "                                       uni  \\\n",
       "0             Abilene Christian University   \n",
       "1                   Adams State University   \n",
       "2                       Adelphi University   \n",
       "3                           Adrian College   \n",
       "4  Adventist University of Health Sciences   \n",
       "\n",
       "                                     uni_type  early_car_pay  mid_car_pay  \\\n",
       "0  Private School, Religious, For Sports Fans          49700        90900   \n",
       "1                                State School          44400        81400   \n",
       "2         Private School, Research University          53700        96400   \n",
       "3                   Private School, Religious          42400        78000   \n",
       "4                   Private School, Religious          51600        89800   \n",
       "\n",
       "   high_meaning  stem_deg  Private  \n",
       "0          53.0       9.0        1  \n",
       "1          56.0       3.0        0  \n",
       "2          50.0       6.0        1  \n",
       "3          58.0      12.0        1  \n",
       "4          88.0       5.0        1  "
      ]
     },
     "execution_count": 8,
     "metadata": {},
     "output_type": "execute_result"
    }
   ],
   "source": [
    "df.head()"
   ]
  },
  {
   "cell_type": "code",
   "execution_count": 9,
   "metadata": {},
   "outputs": [
    {
     "data": {
      "text/plain": [
       "                      Private\n",
       "early_car_pay  count  0            580.000000\n",
       "                      1            985.000000\n",
       "               mean   0          49548.275862\n",
       "                      1          48995.329949\n",
       "               std    0           6900.890818\n",
       "                      1           8315.776130\n",
       "mid_car_pay    count  0            580.000000\n",
       "                      1            985.000000\n",
       "               mean   0          89155.344828\n",
       "                      1          88395.837563\n",
       "               std    0          13135.943480\n",
       "                      1          15714.752563\n",
       "dtype: float64"
      ]
     },
     "execution_count": 9,
     "metadata": {},
     "output_type": "execute_result"
    }
   ],
   "source": [
    "df.groupby(['Private'])[['early_car_pay','mid_car_pay']].agg(['count', 'mean',np.std]).unstack()"
   ]
  },
  {
   "cell_type": "code",
   "execution_count": 10,
   "metadata": {
    "scrolled": true
   },
   "outputs": [
    {
     "data": {
      "text/plain": [
       "                      Private\n",
       "early_car_pay  count  0            580.000000\n",
       "                      1            985.000000\n",
       "               mean   0          49548.275862\n",
       "                      1          48995.329949\n",
       "               std    0           6900.890818\n",
       "                      1           8315.776130\n",
       "mid_car_pay    count  0            580.000000\n",
       "                      1            985.000000\n",
       "               mean   0          89155.344828\n",
       "                      1          88395.837563\n",
       "               std    0          13135.943480\n",
       "                      1          15714.752563\n",
       "dtype: float64"
      ]
     },
     "execution_count": 10,
     "metadata": {},
     "output_type": "execute_result"
    }
   ],
   "source": [
    "df.groupby(['Private'])[['early_car_pay','mid_car_pay']].agg(['count', 'mean',np.std]).unstack()"
   ]
  },
  {
   "cell_type": "code",
   "execution_count": 11,
   "metadata": {},
   "outputs": [],
   "source": [
    "public_early_count = df.groupby(['Private'])[['early_car_pay','mid_car_pay']].agg(['count', 'mean',np.std]).unstack()[0]\n",
    "private_early_count = df.groupby(['Private'])[['early_car_pay','mid_car_pay']].agg(['count', 'mean',np.std]).unstack()[1]\n",
    "public_early_mean = df.groupby(['Private'])[['early_car_pay','mid_car_pay']].agg(['count', 'mean',np.std]).unstack()[2]\n",
    "private_early_mean = df.groupby(['Private'])[['early_car_pay','mid_car_pay']].agg(['count', 'mean',np.std]).unstack()[3]\n",
    "public_early_std = df.groupby(['Private'])[['early_car_pay','mid_car_pay']].agg(['count', 'mean',np.std]).unstack()[4]\n",
    "private_early_std = df.groupby(['Private'])[['early_car_pay','mid_car_pay']].agg(['count', 'mean',np.std]).unstack()[5]\n",
    "\n",
    "# get mid career info\n",
    "public_mid_count = df.groupby(['Private'])[['early_car_pay','mid_car_pay']].agg(['count', 'mean',np.std]).unstack()[6]\n",
    "private_mid_count = df.groupby(['Private'])[['early_car_pay','mid_car_pay']].agg(['count', 'mean',np.std]).unstack()[7]\n",
    "public_mid_mean = df.groupby(['Private'])[['early_car_pay','mid_car_pay']].agg(['count', 'mean',np.std]).unstack()[8]\n",
    "private_mid_mean = df.groupby(['Private'])[['early_car_pay','mid_car_pay']].agg(['count', 'mean',np.std]).unstack()[9]\n",
    "public_mid_std = df.groupby(['Private'])[['early_car_pay','mid_car_pay']].agg(['count', 'mean',np.std]).unstack()[10]\n",
    "private_mid_std = df.groupby(['Private'])[['early_car_pay','mid_car_pay']].agg(['count', 'mean',np.std]).unstack()[11]\n"
   ]
  },
  {
   "cell_type": "code",
   "execution_count": 12,
   "metadata": {},
   "outputs": [
    {
     "name": "stdout",
     "output_type": "stream",
     "text": [
      "580.0\n",
      "985.0\n",
      "49548.275862068964\n",
      "48995.32994923858\n",
      "6900.890818301473\n",
      "8315.776129743184\n",
      "580.0\n",
      "985.0\n",
      "89155.3448275862\n",
      "88395.83756345177\n",
      "13135.94347990051\n",
      "15714.75256259765\n"
     ]
    }
   ],
   "source": [
    "print(public_early_count)\n",
    "print(private_early_count)\n",
    "print(public_early_mean)\n",
    "print(private_early_mean)\n",
    "print(public_early_std)\n",
    "print(private_early_std)\n",
    "\n",
    "print(public_mid_count)\n",
    "print(private_mid_count) \n",
    "print(public_mid_mean)\n",
    "print(private_mid_mean)\n",
    "print(public_mid_std)\n",
    "print(private_mid_std)"
   ]
  },
  {
   "cell_type": "code",
   "execution_count": 13,
   "metadata": {},
   "outputs": [],
   "source": [
    "df_private = df[df['Private']==1]\n",
    "df_public = df[df[\"Private\"]==0]"
   ]
  },
  {
   "cell_type": "code",
   "execution_count": 14,
   "metadata": {
    "scrolled": false
   },
   "outputs": [
    {
     "data": {
      "text/plain": [
       "count      580.000000\n",
       "mean     49548.275862\n",
       "std       6900.890818\n",
       "min      32500.000000\n",
       "25%      44775.000000\n",
       "50%      48650.000000\n",
       "75%      52700.000000\n",
       "max      80600.000000\n",
       "Name: early_car_pay, dtype: float64"
      ]
     },
     "execution_count": 14,
     "metadata": {},
     "output_type": "execute_result"
    }
   ],
   "source": [
    "private=df_private['early_car_pay']\n",
    "private_list = private.tolist()\n",
    "private.describe()\n",
    "\n",
    "public=df_public['early_car_pay']\n",
    "public_list = public.tolist()\n",
    "public.describe()"
   ]
  },
  {
   "cell_type": "code",
   "execution_count": 15,
   "metadata": {},
   "outputs": [],
   "source": [
    "# mu_private = private.mean()\n",
    "# sigma_private = private.std()\n",
    "\n",
    "# mu_private, sigma_private"
   ]
  },
  {
   "cell_type": "code",
   "execution_count": 16,
   "metadata": {},
   "outputs": [],
   "source": [
    "# ambient_pressure = df['AP'].values\n",
    "# standardized_ambient_pressure = (ambient_pressure - mu)/sigma"
   ]
  },
  {
   "cell_type": "code",
   "execution_count": 109,
   "metadata": {},
   "outputs": [
    {
     "data": {
      "text/plain": [
       "[]"
      ]
     },
     "execution_count": 109,
     "metadata": {},
     "output_type": "execute_result"
    },
    {
     "data": {
      "image/png": "[encoded data removed]",
      "text/plain": [
       "<Figure size 720x576 with 1 Axes>"
      ]
     },
     "metadata": {
      "needs_background": "light"
     },
     "output_type": "display_data"
    }
   ],
   "source": [
    "plt.figure(figsize=(10,8))\n",
    "plt.hist(private_list, bins=50, alpha=.5,label ='private_list_early')\n",
    "plt.hist(public_list, bins=50, color='r', alpha = 0.5, label='public_list_early')\n",
    "plt.legend()\n",
    "plt.title('Expected Early Career Pay for Private vs. Public Universities')\n",
    "plt.plot()"
   ]
  },
  {
   "cell_type": "code",
   "execution_count": 18,
   "metadata": {},
   "outputs": [
    {
     "name": "stderr",
     "output_type": "stream",
     "text": [
      "/Users/gabrielseemann/anaconda3/lib/python3.7/site-packages/ipykernel_launcher.py:2: MatplotlibDeprecationWarning: \n",
      "The 'normed' kwarg was deprecated in Matplotlib 2.1 and will be removed in 3.1. Use 'density' instead.\n",
      "  \n",
      "/Users/gabrielseemann/anaconda3/lib/python3.7/site-packages/ipykernel_launcher.py:3: MatplotlibDeprecationWarning: \n",
      "The 'normed' kwarg was deprecated in Matplotlib 2.1 and will be removed in 3.1. Use 'density' instead.\n",
      "  This is separate from the ipykernel package so we can avoid doing imports until\n"
     ]
    },
    {
     "data": {
      "text/plain": [
       "[]"
      ]
     },
     "execution_count": 18,
     "metadata": {},
     "output_type": "execute_result"
    },
    {
     "data": {
      "image/png": "[encoded data removed]",
      "text/plain": [
       "<Figure size 720x576 with 1 Axes>"
      ]
     },
     "metadata": {
      "needs_background": "light"
     },
     "output_type": "display_data"
    }
   ],
   "source": [
    "plt.figure(figsize=(10,8))\n",
    "plt.hist(private_list, bins=50, alpha=.5, normed=True)\n",
    "plt.hist(public_list, bins=50, color='r', alpha = 0.5, normed=True)\n",
    "plt.title('Early Career Pay for Private vs. Public Universities --Normalized')\n",
    "plt.plot()"
   ]
  },
  {
   "cell_type": "markdown",
   "metadata": {},
   "source": [
    "## Sample using Central limit theorem to get normal distribution"
   ]
  },
  {
   "cell_type": "code",
   "execution_count": 111,
   "metadata": {
    "scrolled": true
   },
   "outputs": [
    {
     "name": "stdout",
     "output_type": "stream",
     "text": [
      "Mean: 48994.43113, Standard Deviation: 788.413520201755\n",
      "Mean: 49547.15415, Standard Deviation: 627.4074280623217\n"
     ]
    },
    {
     "data": {
      "text/plain": [
       "<matplotlib.legend.Legend at 0x1a27594d68>"
      ]
     },
     "execution_count": 111,
     "metadata": {},
     "output_type": "execute_result"
    },
    {
     "data": {
      "image/png": "[encoded data removed]",
      "text/plain": [
       "<Figure size 720x720 with 1 Axes>"
      ]
     },
     "metadata": {
      "needs_background": "light"
     },
     "output_type": "display_data"
    }
   ],
   "source": [
    "samples = [np.random.choice(private_list, replace=False, size=100) for i in range(100000)]\n",
    "print('Mean: {}, Standard Deviation: {}'.format(\n",
    "                                                np.mean([np.mean(i) for i in samples]),\n",
    "                                                np.std([np.mean(i) for i in samples])\n",
    "                                            )\n",
    "     )\n",
    "\n",
    "samples1 = [np.random.choice(public_list, replace=False, size=100) for i in range(100000)]\n",
    "print('Mean: {}, Standard Deviation: {}'.format(\n",
    "                                                np.mean([np.mean(i) for i in samples1]),\n",
    "                                                np.std([np.mean(i) for i in samples1])\n",
    "                                            )\n",
    "     )\n",
    "plt.figure(figsize=(10,10))\n",
    "sns.distplot([np.mean(i) for i in samples],label ='private_list_early-CLT Sample')\n",
    "sns.distplot([np.mean(i) for i in samples1],label ='public_list_early-CLT Sample')\n",
    "plt.title('Expected Early Career Pay CLT Sample for Private vs. Public Universities')\n",
    "plt.legend()"
   ]
  },
  {
   "cell_type": "markdown",
   "metadata": {},
   "source": [
    "## One-sample z-tests!\n",
    "\n",
    "Recall the test statistic for a one-sample z-test is the z-statistic: \n",
    "\n",
    "$$ \\large \\text{z-statistic} = \\dfrac{\\bar x - \\mu_0}{{\\sigma}/{\\sqrt{n}}} $$\n",
    "\n",
    "* $\\bar x$ is your sample mean\n",
    "* $n$ is the number of items in your sample \n",
    "* $\\sigma$ is the population standard deviation\n",
    "* $\\mu_0$ is the population mean\n",
    "\n",
    "The z-statistic differs from the standard score formula: we divide the standard deviation by the square root of $n$ to reflect that we are dealing with the _sample variance_. "
   ]
  },
  {
   "cell_type": "markdown",
   "metadata": {},
   "source": [
    "## Now well do a 2 sample z test for EARLY CAREER SALARY\n"
   ]
  },
  {
   "cell_type": "code",
   "execution_count": 20,
   "metadata": {},
   "outputs": [
    {
     "data": {
      "text/plain": [
       "1.4168201211290246"
      ]
     },
     "execution_count": 20,
     "metadata": {},
     "output_type": "execute_result"
    }
   ],
   "source": [
    "standard_error_of_mean_diff = math.sqrt((public_early_std**2/public_early_count +private_early_std**2/private_early_count))\n",
    "z = (public_early_mean-private_early_mean)/(standard_error_of_mean_diff)\n",
    "z"
   ]
  },
  {
   "cell_type": "markdown",
   "metadata": {},
   "source": [
    "We fail to reject our null hypothesis\n",
    "\n",
    "There is no significant difference in early career expected salary for those who attend public vs private school \n",
    "\n",
    "I could have made a type 2 error"
   ]
  },
  {
   "cell_type": "markdown",
   "metadata": {},
   "source": [
    "## Now well do power analysis"
   ]
  },
  {
   "cell_type": "code",
   "execution_count": 21,
   "metadata": {},
   "outputs": [
    {
     "data": {
      "text/plain": [
       "0.07826776266232675"
      ]
     },
     "execution_count": 21,
     "metadata": {},
     "output_type": "execute_result"
    }
   ],
   "source": [
    "p_value = stats.norm.sf(abs(z)) #one-sided\n",
    "p_value"
   ]
  },
  {
   "cell_type": "code",
   "execution_count": 22,
   "metadata": {},
   "outputs": [
    {
     "data": {
      "text/plain": [
       "0.9217322373376733"
      ]
     },
     "execution_count": 22,
     "metadata": {},
     "output_type": "execute_result"
    }
   ],
   "source": [
    "beta = 1-p_value\n",
    "beta"
   ]
  },
  {
   "cell_type": "markdown",
   "metadata": {},
   "source": [
    "It appears there is and 8% chance we made a Type 2 error\n"
   ]
  },
  {
   "cell_type": "code",
   "execution_count": 23,
   "metadata": {},
   "outputs": [],
   "source": [
    "# # solve for power\n",
    "# power_analysis = TTestIndPower()\n",
    "# # calculate the power\n",
    "# power = power_analysis.solve_power(effect_size=0.5, nobs1=500, alpha=.05)\n",
    "# print(\"power is\" + \" \" + str(power))\n",
    "# #Calculate sample size required\n",
    "# sample_size = power_analysis.solve_power(effect_size=.2, alpha=.05, power=.8)\n",
    "# print(\"number of observation required is\" + \" \"+ str(sample_size))"
   ]
  },
  {
   "cell_type": "markdown",
   "metadata": {},
   "source": [
    "## Now well look at MID CAREER SALARY for private vs public schools"
   ]
  },
  {
   "cell_type": "markdown",
   "metadata": {},
   "source": [
    "First we wil look at a histogram of mid career pay"
   ]
  },
  {
   "cell_type": "code",
   "execution_count": 24,
   "metadata": {},
   "outputs": [
    {
     "data": {
      "text/plain": [
       "count       580.000000\n",
       "mean      89155.344828\n",
       "std       13135.943480\n",
       "min       61900.000000\n",
       "25%       79900.000000\n",
       "50%       87200.000000\n",
       "75%       96025.000000\n",
       "max      152800.000000\n",
       "Name: mid_car_pay, dtype: float64"
      ]
     },
     "execution_count": 24,
     "metadata": {},
     "output_type": "execute_result"
    }
   ],
   "source": [
    "private=df_private['mid_car_pay']\n",
    "private_list_mid = private.tolist()\n",
    "private.describe()\n",
    "\n",
    "public=df_public['mid_car_pay']\n",
    "public_list_mid = public.tolist()\n",
    "public.describe()"
   ]
  },
  {
   "cell_type": "code",
   "execution_count": 118,
   "metadata": {},
   "outputs": [
    {
     "data": {
      "text/plain": [
       "[]"
      ]
     },
     "execution_count": 118,
     "metadata": {},
     "output_type": "execute_result"
    },
    {
     "data": {
      "image/png": "[encoded data removed]",
      "text/plain": [
       "<Figure size 720x720 with 1 Axes>"
      ]
     },
     "metadata": {
      "needs_background": "light"
     },
     "output_type": "display_data"
    }
   ],
   "source": [
    "plt.figure(figsize=(10,10))\n",
    "plt.hist(private_list_mid, bins=50, alpha=.5, label='private_list_mid')\n",
    "plt.hist(public_list_mid, bins=50, color='r', alpha = 0.5, label=\"public_list_mid\")\n",
    "plt.legend()\n",
    "plt.title('Mid Career Pay for Private vs. Public Universities')\n",
    "plt.plot()"
   ]
  },
  {
   "cell_type": "markdown",
   "metadata": {},
   "source": [
    "Now we'll use the central limit theorem\n",
    "THis allows us to...? get sample standard deviation? "
   ]
  },
  {
   "cell_type": "code",
   "execution_count": 120,
   "metadata": {},
   "outputs": [
    {
     "name": "stdout",
     "output_type": "stream",
     "text": [
      "Mean: 88402.40734, Standard Deviation: 1487.1378803440266\n",
      "Mean: 89154.94346, Standard Deviation: 1191.3407745155155\n"
     ]
    },
    {
     "data": {
      "text/plain": [
       "<matplotlib.legend.Legend at 0x1a22945f60>"
      ]
     },
     "execution_count": 120,
     "metadata": {},
     "output_type": "execute_result"
    },
    {
     "data": {
      "image/png": "[encoded data removed]",
      "text/plain": [
       "<Figure size 720x576 with 1 Axes>"
      ]
     },
     "metadata": {
      "needs_background": "light"
     },
     "output_type": "display_data"
    }
   ],
   "source": [
    "samples = [np.random.choice(private_list_mid, replace=False, size=100) for i in range(100000)]\n",
    "print('Mean: {}, Standard Deviation: {}'.format(\n",
    "                                                np.mean([np.mean(i) for i in samples]),\n",
    "                                                np.std([np.mean(i) for i in samples])\n",
    "                                            )\n",
    "     )\n",
    "\n",
    "samples1 = [np.random.choice(public_list_mid, replace=False, size=100) for i in range(100000)]\n",
    "print('Mean: {}, Standard Deviation: {}'.format(\n",
    "                                                np.mean([np.mean(i) for i in samples1]),\n",
    "                                                np.std([np.mean(i) for i in samples1])\n",
    "                                            )\n",
    "     )\n",
    "plt.figure(figsize=(10,8))\n",
    "sns.distplot([np.mean(i) for i in samples],label=\"private_list_mid - CLT Sample\")\n",
    "sns.distplot([np.mean(i) for i in samples1], label= 'public_list_mid - CLT Sample')\n",
    "plt.title('Expected Mid Career Pay CLT Sample for Private vs. Public Universities')\n",
    "plt.legend()\n"
   ]
  },
  {
   "cell_type": "markdown",
   "metadata": {},
   "source": [
    "## Now well do a 2 sample z test MID CAREER PAY\n"
   ]
  },
  {
   "cell_type": "code",
   "execution_count": 121,
   "metadata": {},
   "outputs": [
    {
     "data": {
      "text/plain": [
       "1.0257812369620891"
      ]
     },
     "execution_count": 121,
     "metadata": {},
     "output_type": "execute_result"
    }
   ],
   "source": [
    "standard_error_of_mean_diff = math.sqrt((public_mid_std**2/public_mid_count +private_mid_std**2/private_mid_count))\n",
    "z = (public_mid_mean-private_mid_mean)/(standard_error_of_mean_diff)\n",
    "z"
   ]
  },
  {
   "cell_type": "code",
   "execution_count": 122,
   "metadata": {},
   "outputs": [
    {
     "data": {
      "text/plain": [
       "0.15249735608732057"
      ]
     },
     "execution_count": 122,
     "metadata": {},
     "output_type": "execute_result"
    }
   ],
   "source": [
    "p_value = stats.norm.sf(abs(z)) #one-sided\n",
    "p_value"
   ]
  },
  {
   "cell_type": "markdown",
   "metadata": {},
   "source": [
    "We fail to reject our null hypothesis\n",
    "\n",
    "There is no significant difference in mid career expected salary for those who attend public vs private school \n",
    "\n",
    "I could have made a type 2 error. Below well use power analysis to find the chance that a type 2 error is made"
   ]
  },
  {
   "cell_type": "markdown",
   "metadata": {},
   "source": [
    "## Now well do power analysis MID CAREER PAY"
   ]
  },
  {
   "cell_type": "code",
   "execution_count": 123,
   "metadata": {},
   "outputs": [
    {
     "data": {
      "text/plain": [
       "0.8475026439126794"
      ]
     },
     "execution_count": 123,
     "metadata": {},
     "output_type": "execute_result"
    }
   ],
   "source": [
    "beta = 1-p_value\n",
    "beta"
   ]
  },
  {
   "cell_type": "markdown",
   "metadata": {},
   "source": [
    "There is a 16% chance we made Type 2 errors"
   ]
  },
  {
   "cell_type": "code",
   "execution_count": 41,
   "metadata": {},
   "outputs": [
    {
     "data": {
      "text/html": [
       "<div>\n",
       "<style scoped>\n",
       "    .dataframe tbody tr th:only-of-type {\n",
       "        vertical-align: middle;\n",
       "    }\n",
       "\n",
       "    .dataframe tbody tr th {\n",
       "        vertical-align: top;\n",
       "    }\n",
       "\n",
       "    .dataframe thead th {\n",
       "        text-align: right;\n",
       "    }\n",
       "</style>\n",
       "<table border=\"1\" class=\"dataframe\">\n",
       "  <thead>\n",
       "    <tr style=\"text-align: right;\">\n",
       "      <th></th>\n",
       "      <th>uni</th>\n",
       "      <th>uni_type</th>\n",
       "      <th>early_car_pay</th>\n",
       "      <th>mid_car_pay</th>\n",
       "      <th>high_meaning</th>\n",
       "      <th>stem_deg</th>\n",
       "      <th>Private</th>\n",
       "    </tr>\n",
       "  </thead>\n",
       "  <tbody>\n",
       "    <tr>\n",
       "      <th>0</th>\n",
       "      <td>Abilene Christian University</td>\n",
       "      <td>Private School, Religious, For Sports Fans</td>\n",
       "      <td>49700</td>\n",
       "      <td>90900</td>\n",
       "      <td>53.0</td>\n",
       "      <td>9.0</td>\n",
       "      <td>1</td>\n",
       "    </tr>\n",
       "    <tr>\n",
       "      <th>1</th>\n",
       "      <td>Adams State University</td>\n",
       "      <td>State School</td>\n",
       "      <td>44400</td>\n",
       "      <td>81400</td>\n",
       "      <td>56.0</td>\n",
       "      <td>3.0</td>\n",
       "      <td>0</td>\n",
       "    </tr>\n",
       "    <tr>\n",
       "      <th>2</th>\n",
       "      <td>Adelphi University</td>\n",
       "      <td>Private School, Research University</td>\n",
       "      <td>53700</td>\n",
       "      <td>96400</td>\n",
       "      <td>50.0</td>\n",
       "      <td>6.0</td>\n",
       "      <td>1</td>\n",
       "    </tr>\n",
       "    <tr>\n",
       "      <th>3</th>\n",
       "      <td>Adrian College</td>\n",
       "      <td>Private School, Religious</td>\n",
       "      <td>42400</td>\n",
       "      <td>78000</td>\n",
       "      <td>58.0</td>\n",
       "      <td>12.0</td>\n",
       "      <td>1</td>\n",
       "    </tr>\n",
       "    <tr>\n",
       "      <th>4</th>\n",
       "      <td>Adventist University of Health Sciences</td>\n",
       "      <td>Private School, Religious</td>\n",
       "      <td>51600</td>\n",
       "      <td>89800</td>\n",
       "      <td>88.0</td>\n",
       "      <td>5.0</td>\n",
       "      <td>1</td>\n",
       "    </tr>\n",
       "  </tbody>\n",
       "</table>\n",
       "</div>"
      ],
      "text/plain": [
       "                                       uni  \\\n",
       "0             Abilene Christian University   \n",
       "1                   Adams State University   \n",
       "2                       Adelphi University   \n",
       "3                           Adrian College   \n",
       "4  Adventist University of Health Sciences   \n",
       "\n",
       "                                     uni_type  early_car_pay  mid_car_pay  \\\n",
       "0  Private School, Religious, For Sports Fans          49700        90900   \n",
       "1                                State School          44400        81400   \n",
       "2         Private School, Research University          53700        96400   \n",
       "3                   Private School, Religious          42400        78000   \n",
       "4                   Private School, Religious          51600        89800   \n",
       "\n",
       "   high_meaning  stem_deg  Private  \n",
       "0          53.0       9.0        1  \n",
       "1          56.0       3.0        0  \n",
       "2          50.0       6.0        1  \n",
       "3          58.0      12.0        1  \n",
       "4          88.0       5.0        1  "
      ]
     },
     "execution_count": 41,
     "metadata": {},
     "output_type": "execute_result"
    }
   ],
   "source": [
    "df.head()"
   ]
  },
  {
   "cell_type": "code",
   "execution_count": 124,
   "metadata": {},
   "outputs": [
    {
     "name": "stdout",
     "output_type": "stream",
     "text": [
      "# packages in environment at /Users/gabrielseemann/anaconda3:\n",
      "#\n",
      "# Name                    Version                   Build  Channel\n",
      "matplotlib                3.1.0            py37h54f8f79_0  \n",
      "\n",
      "Note: you may need to restart the kernel to use updated packages.\n"
     ]
    }
   ],
   "source": [
    "conda list matplotlib"
   ]
  },
  {
   "cell_type": "code",
   "execution_count": 71,
   "metadata": {},
   "outputs": [
    {
     "data": {
      "image/png": "[encoded data removed]",
      "text/plain": [
       "<Figure size 720x720 with 2 Axes>"
      ]
     },
     "metadata": {
      "needs_background": "light"
     },
     "output_type": "display_data"
    }
   ],
   "source": [
    "data = df.filter(['early_car_pay','mid_car_pay','high_meaning','stem_deg'],axis=1)\n",
    "corr = data.corr()\n",
    "fig = plt.figure(figsize=(10,10))\n",
    "ax = fig.add_subplot(111)\n",
    "cax = ax.matshow(corr,cmap='coolwarm', vmin=-1, vmax=1)\n",
    "fig.colorbar(cax)\n",
    "ticks = np.arange(0,len(data.columns),1)\n",
    "ax.set_xticks(ticks)\n",
    "plt.xticks(rotation=90)\n",
    "ax.set_yticks(ticks)\n",
    "ax.set_xticklabels(data.columns)\n",
    "ax.set_yticklabels(data.columns)\n",
    "plt.show()"
   ]
  },
  {
   "cell_type": "code",
   "execution_count": 63,
   "metadata": {},
   "outputs": [
    {
     "data": {
      "image/png": "[encoded data removed]",
      "text/plain": [
       "<Figure size 432x288 with 2 Axes>"
      ]
     },
     "metadata": {
      "needs_background": "light"
     },
     "output_type": "display_data"
    }
   ],
   "source": [
    "fig = plt.figure()\n",
    "ax = fig.add_subplot(111)\n",
    "cax = ax.matshow(corr,cmap='coolwarm', vmin=-1, vmax=1)\n",
    "fig.colorbar(cax)\n",
    "ticks = np.arange(0,len(corr.columns),1)\n",
    "ax.set_xticks(ticks)\n",
    "plt.xticks(rotation=90)\n",
    "ax.set_yticks(ticks)\n",
    "ax.set_xticklabels(corr.columns)\n",
    "ax.set_yticklabels(corr.columns)\n",
    "plt.show()"
   ]
  },
  {
   "cell_type": "markdown",
   "metadata": {},
   "source": [
    "Confirms STEM degree percent correlates ot higher pay."
   ]
  },
  {
   "cell_type": "code",
   "execution_count": 64,
   "metadata": {
    "scrolled": true
   },
   "outputs": [
    {
     "data": {
      "text/html": [
       "<div>\n",
       "<style scoped>\n",
       "    .dataframe tbody tr th:only-of-type {\n",
       "        vertical-align: middle;\n",
       "    }\n",
       "\n",
       "    .dataframe tbody tr th {\n",
       "        vertical-align: top;\n",
       "    }\n",
       "\n",
       "    .dataframe thead th {\n",
       "        text-align: right;\n",
       "    }\n",
       "</style>\n",
       "<table border=\"1\" class=\"dataframe\">\n",
       "  <thead>\n",
       "    <tr style=\"text-align: right;\">\n",
       "      <th></th>\n",
       "      <th>early_car_pay</th>\n",
       "      <th>mid_car_pay</th>\n",
       "      <th>high_meaning</th>\n",
       "      <th>stem_deg</th>\n",
       "    </tr>\n",
       "  </thead>\n",
       "  <tbody>\n",
       "    <tr>\n",
       "      <th>early_car_pay</th>\n",
       "      <td>1.000000</td>\n",
       "      <td>0.999193</td>\n",
       "      <td>-0.911230</td>\n",
       "      <td>0.608344</td>\n",
       "    </tr>\n",
       "    <tr>\n",
       "      <th>mid_car_pay</th>\n",
       "      <td>0.999193</td>\n",
       "      <td>1.000000</td>\n",
       "      <td>-0.923138</td>\n",
       "      <td>0.630843</td>\n",
       "    </tr>\n",
       "    <tr>\n",
       "      <th>high_meaning</th>\n",
       "      <td>-0.911230</td>\n",
       "      <td>-0.923138</td>\n",
       "      <td>1.000000</td>\n",
       "      <td>-0.880578</td>\n",
       "    </tr>\n",
       "    <tr>\n",
       "      <th>stem_deg</th>\n",
       "      <td>0.608344</td>\n",
       "      <td>0.630843</td>\n",
       "      <td>-0.880578</td>\n",
       "      <td>1.000000</td>\n",
       "    </tr>\n",
       "  </tbody>\n",
       "</table>\n",
       "</div>"
      ],
      "text/plain": [
       "               early_car_pay  mid_car_pay  high_meaning  stem_deg\n",
       "early_car_pay       1.000000     0.999193     -0.911230  0.608344\n",
       "mid_car_pay         0.999193     1.000000     -0.923138  0.630843\n",
       "high_meaning       -0.911230    -0.923138      1.000000 -0.880578\n",
       "stem_deg            0.608344     0.630843     -0.880578  1.000000"
      ]
     },
     "execution_count": 64,
     "metadata": {},
     "output_type": "execute_result"
    }
   ],
   "source": [
    "corr.corr()"
   ]
  },
  {
   "cell_type": "code",
   "execution_count": null,
   "metadata": {},
   "outputs": [],
   "source": []
  },
  {
   "cell_type": "code",
   "execution_count": 105,
   "metadata": {},
   "outputs": [
    {
     "data": {
      "text/html": [
       "<div>\n",
       "<style scoped>\n",
       "    .dataframe tbody tr th:only-of-type {\n",
       "        vertical-align: middle;\n",
       "    }\n",
       "\n",
       "    .dataframe tbody tr th {\n",
       "        vertical-align: top;\n",
       "    }\n",
       "\n",
       "    .dataframe thead th {\n",
       "        text-align: right;\n",
       "    }\n",
       "</style>\n",
       "<table border=\"1\" class=\"dataframe\">\n",
       "  <thead>\n",
       "    <tr style=\"text-align: right;\">\n",
       "      <th></th>\n",
       "      <th>college</th>\n",
       "      <th>private</th>\n",
       "      <th>total_undergrad</th>\n",
       "      <th>entrance_difficulty</th>\n",
       "      <th>admission_rate</th>\n",
       "      <th>avg_gpa</th>\n",
       "      <th>SAT_math_avg</th>\n",
       "      <th>SAT_EBRW_avg</th>\n",
       "      <th>total_cost</th>\n",
       "      <th>in_cost</th>\n",
       "      <th>...</th>\n",
       "      <th>out_tuition</th>\n",
       "      <th>room_and_board</th>\n",
       "      <th>avg_pcent_need_met</th>\n",
       "      <th>avg_f_award</th>\n",
       "      <th>avg_indebted</th>\n",
       "      <th>uni_type</th>\n",
       "      <th>early_car_pay</th>\n",
       "      <th>mid_car_pay</th>\n",
       "      <th>high_meaning</th>\n",
       "      <th>stem_deg</th>\n",
       "    </tr>\n",
       "  </thead>\n",
       "  <tbody>\n",
       "    <tr>\n",
       "      <th>0</th>\n",
       "      <td>Abilene Christian University</td>\n",
       "      <td>1</td>\n",
       "      <td>3670</td>\n",
       "      <td>Moderately difficult</td>\n",
       "      <td>51.0</td>\n",
       "      <td>4.0</td>\n",
       "      <td>558.0</td>\n",
       "      <td>566.0</td>\n",
       "      <td>49792</td>\n",
       "      <td>NaN</td>\n",
       "      <td>...</td>\n",
       "      <td>NaN</td>\n",
       "      <td>10350</td>\n",
       "      <td>71</td>\n",
       "      <td>26051</td>\n",
       "      <td>None</td>\n",
       "      <td>Private School, Religious, For Sports Fans</td>\n",
       "      <td>49700</td>\n",
       "      <td>90900</td>\n",
       "      <td>53.0</td>\n",
       "      <td>9.0</td>\n",
       "    </tr>\n",
       "    <tr>\n",
       "      <th>1</th>\n",
       "      <td>Adams State University</td>\n",
       "      <td>0</td>\n",
       "      <td>1991</td>\n",
       "      <td>Moderately difficult</td>\n",
       "      <td>99.0</td>\n",
       "      <td>3.0</td>\n",
       "      <td>480.0</td>\n",
       "      <td>495.0</td>\n",
       "      <td>24545.40</td>\n",
       "      <td>22893.0</td>\n",
       "      <td>...</td>\n",
       "      <td>20456.0</td>\n",
       "      <td>8782</td>\n",
       "      <td>70</td>\n",
       "      <td>14726</td>\n",
       "      <td>22822</td>\n",
       "      <td>State School</td>\n",
       "      <td>44400</td>\n",
       "      <td>81400</td>\n",
       "      <td>56.0</td>\n",
       "      <td>3.0</td>\n",
       "    </tr>\n",
       "    <tr>\n",
       "      <th>2</th>\n",
       "      <td>Adelphi University</td>\n",
       "      <td>1</td>\n",
       "      <td>5391</td>\n",
       "      <td>Moderately difficult</td>\n",
       "      <td>74.0</td>\n",
       "      <td>4.0</td>\n",
       "      <td>590.0</td>\n",
       "      <td>586.0</td>\n",
       "      <td>58710</td>\n",
       "      <td>NaN</td>\n",
       "      <td>...</td>\n",
       "      <td>NaN</td>\n",
       "      <td>16030</td>\n",
       "      <td>44</td>\n",
       "      <td>22900</td>\n",
       "      <td>34980</td>\n",
       "      <td>Private School, Research University</td>\n",
       "      <td>53700</td>\n",
       "      <td>96400</td>\n",
       "      <td>50.0</td>\n",
       "      <td>6.0</td>\n",
       "    </tr>\n",
       "    <tr>\n",
       "      <th>3</th>\n",
       "      <td>Adrian College</td>\n",
       "      <td>1</td>\n",
       "      <td>1647</td>\n",
       "      <td>Moderately difficult</td>\n",
       "      <td>56.0</td>\n",
       "      <td>3.0</td>\n",
       "      <td>NaN</td>\n",
       "      <td>NaN</td>\n",
       "      <td>None</td>\n",
       "      <td>NaN</td>\n",
       "      <td>...</td>\n",
       "      <td>NaN</td>\n",
       "      <td>None</td>\n",
       "      <td>77</td>\n",
       "      <td>27013</td>\n",
       "      <td>27741</td>\n",
       "      <td>Private School, Religious</td>\n",
       "      <td>42400</td>\n",
       "      <td>78000</td>\n",
       "      <td>58.0</td>\n",
       "      <td>12.0</td>\n",
       "    </tr>\n",
       "    <tr>\n",
       "      <th>4</th>\n",
       "      <td>Agnes Scott College</td>\n",
       "      <td>1</td>\n",
       "      <td>996</td>\n",
       "      <td>Moderately difficult</td>\n",
       "      <td>70.0</td>\n",
       "      <td>4.0</td>\n",
       "      <td>580.0</td>\n",
       "      <td>627.0</td>\n",
       "      <td>57505</td>\n",
       "      <td>NaN</td>\n",
       "      <td>...</td>\n",
       "      <td>NaN</td>\n",
       "      <td>12670</td>\n",
       "      <td>84</td>\n",
       "      <td>37669</td>\n",
       "      <td>30850</td>\n",
       "      <td>Liberal Arts School, Private School, Religious...</td>\n",
       "      <td>46000</td>\n",
       "      <td>83600</td>\n",
       "      <td>57.0</td>\n",
       "      <td>26.0</td>\n",
       "    </tr>\n",
       "  </tbody>\n",
       "</table>\n",
       "<p>5 rows × 23 columns</p>\n",
       "</div>"
      ],
      "text/plain": [
       "                        college private total_undergrad   entrance_difficulty  \\\n",
       "0  Abilene Christian University       1            3670  Moderately difficult   \n",
       "1        Adams State University       0            1991  Moderately difficult   \n",
       "2            Adelphi University       1            5391  Moderately difficult   \n",
       "3                Adrian College       1            1647  Moderately difficult   \n",
       "4           Agnes Scott College       1             996  Moderately difficult   \n",
       "\n",
       "   admission_rate  avg_gpa  SAT_math_avg  SAT_EBRW_avg total_cost  in_cost  \\\n",
       "0            51.0      4.0         558.0         566.0      49792      NaN   \n",
       "1            99.0      3.0         480.0         495.0   24545.40  22893.0   \n",
       "2            74.0      4.0         590.0         586.0      58710      NaN   \n",
       "3            56.0      3.0           NaN           NaN       None      NaN   \n",
       "4            70.0      4.0         580.0         627.0      57505      NaN   \n",
       "\n",
       "   ...  out_tuition room_and_board  avg_pcent_need_met  avg_f_award  \\\n",
       "0  ...          NaN          10350                  71        26051   \n",
       "1  ...      20456.0           8782                  70        14726   \n",
       "2  ...          NaN          16030                  44        22900   \n",
       "3  ...          NaN           None                  77        27013   \n",
       "4  ...          NaN          12670                  84        37669   \n",
       "\n",
       "  avg_indebted                                           uni_type  \\\n",
       "0         None         Private School, Religious, For Sports Fans   \n",
       "1        22822                                       State School   \n",
       "2        34980                Private School, Research University   \n",
       "3        27741                          Private School, Religious   \n",
       "4        30850  Liberal Arts School, Private School, Religious...   \n",
       "\n",
       "  early_car_pay mid_car_pay high_meaning  stem_deg  \n",
       "0         49700       90900         53.0       9.0  \n",
       "1         44400       81400         56.0       3.0  \n",
       "2         53700       96400         50.0       6.0  \n",
       "3         42400       78000         58.0      12.0  \n",
       "4         46000       83600         57.0      26.0  \n",
       "\n",
       "[5 rows x 23 columns]"
      ]
     },
     "execution_count": 105,
     "metadata": {},
     "output_type": "execute_result"
    }
   ],
   "source": [
    "df_combined = query_helper.query_to_df('SELECT * FROM colleges_inner')\n",
    "df_combined.head()\n"
   ]
  },
  {
   "cell_type": "code",
   "execution_count": 66,
   "metadata": {},
   "outputs": [
    {
     "data": {
      "image/png": "[encoded data removed]",
      "text/plain": [
       "<Figure size 432x288 with 2 Axes>"
      ]
     },
     "metadata": {
      "needs_background": "light"
     },
     "output_type": "display_data"
    }
   ],
   "source": [
    "corr = data.corr()\n",
    "fig = plt.figure()\n",
    "ax = fig.add_subplot(111)\n",
    "cax = ax.matshow(corr,cmap='coolwarm', vmin=-1, vmax=1)\n",
    "fig.colorbar(cax)\n",
    "ticks = np.arange(0,len(data.columns),1)\n",
    "ax.set_xticks(ticks)\n",
    "plt.xticks(rotation=90)\n",
    "ax.set_yticks(ticks)\n",
    "ax.set_xticklabels(data.columns)\n",
    "ax.set_yticklabels(data.columns)\n",
    "plt.show()\n"
   ]
  },
  {
   "cell_type": "code",
   "execution_count": 104,
   "metadata": {
    "collapsed": true
   },
   "outputs": [
    {
     "data": {
      "image/png": "[encoded data removed]",
      "text/plain": [
       "<Figure size 720x720 with 2 Axes>"
      ]
     },
     "metadata": {
      "needs_background": "light"
     },
     "output_type": "display_data"
    }
   ],
   "source": [
    "data = df_combined\n",
    "corr = data.corr()\n",
    "fig = plt.figure(figsize=(10,10))\n",
    "ax = fig.add_subplot(111)\n",
    "cax = ax.matshow(corr,cmap='coolwarm', vmin=-1, vmax=1)\n",
    "fig.colorbar(cax)\n",
    "ticks = np.arange(0,len(data.columns),1)\n",
    "ax.set_xticks(ticks)\n",
    "plt.xticks(rotation=90)\n",
    "ax.set_yticks(ticks)\n",
    "ax.set_xticklabels(data.columns)\n",
    "ax.set_yticklabels(data.columns)\n",
    "plt.show()"
   ]
  },
  {
   "cell_type": "code",
   "execution_count": 108,
   "metadata": {},
   "outputs": [
    {
     "data": {
      "text/plain": [
       "0        3670.0\n",
       "1        1991.0\n",
       "2        5391.0\n",
       "3        1647.0\n",
       "4         996.0\n",
       "5        3903.0\n",
       "6         294.0\n",
       "7        1078.0\n",
       "8        2594.0\n",
       "9        1220.0\n",
       "10       1533.0\n",
       "11       1912.0\n",
       "12       3172.0\n",
       "13       1671.0\n",
       "14       1771.0\n",
       "15        341.0\n",
       "16       1426.0\n",
       "17       2323.0\n",
       "18       1219.0\n",
       "19        231.0\n",
       "20       1372.0\n",
       "21       8287.0\n",
       "22       1836.0\n",
       "23       1704.0\n",
       "24       8752.0\n",
       "25       1128.0\n",
       "26      17381.0\n",
       "27       2390.0\n",
       "28        700.0\n",
       "29      11151.0\n",
       "         ...   \n",
       "1056     3345.0\n",
       "1057      307.0\n",
       "1058      925.0\n",
       "1059     2455.0\n",
       "1060     1808.0\n",
       "1061     2090.0\n",
       "1062     1097.0\n",
       "1063      803.0\n",
       "1064     1315.0\n",
       "1065      958.0\n",
       "1066     2073.0\n",
       "1067     1432.0\n",
       "1068     8440.0\n",
       "1069      571.0\n",
       "1070     2084.0\n",
       "1071     7437.0\n",
       "1072     5960.0\n",
       "1073     4887.0\n",
       "1074      992.0\n",
       "1075     1857.0\n",
       "1076     1608.0\n",
       "1077     1059.0\n",
       "1078     4668.0\n",
       "1079     5380.0\n",
       "1080     4633.0\n",
       "1081     2293.0\n",
       "1082     5746.0\n",
       "1083     2744.0\n",
       "1084     4171.0\n",
       "1085    11524.0\n",
       "Name: total_undergrad, Length: 1086, dtype: float64"
      ]
     },
     "execution_count": 108,
     "metadata": {},
     "output_type": "execute_result"
    }
   ],
   "source": [
    "series_temp = pd.Series(df_combined['total_undergrad'])\n",
    "series_temp = pd.to_numeric(series_temp)\n",
    "series_temp\n",
    "# df_combined = df_combined[np.isfinite(df_combined['total_undergrad'])]"
   ]
  },
  {
   "cell_type": "code",
   "execution_count": 95,
   "metadata": {},
   "outputs": [
    {
     "ename": "TypeError",
     "evalue": "int() argument must be a string, a bytes-like object or a number, not 'NoneType'",
     "output_type": "error",
     "traceback": [
      "\u001b[0;31m---------------------------------------------------------------------------\u001b[0m",
      "\u001b[0;31mTypeError\u001b[0m                                 Traceback (most recent call last)",
      "\u001b[0;32m<ipython-input-95-4a853cf4c9bf>\u001b[0m in \u001b[0;36m<module>\u001b[0;34m\u001b[0m\n\u001b[0;32m----> 1\u001b[0;31m \u001b[0mundergrad\u001b[0m \u001b[0;34m=\u001b[0m \u001b[0;34m[\u001b[0m\u001b[0mint\u001b[0m\u001b[0;34m(\u001b[0m\u001b[0mi\u001b[0m\u001b[0;34m)\u001b[0m \u001b[0;32mfor\u001b[0m \u001b[0mi\u001b[0m \u001b[0;32min\u001b[0m \u001b[0mdf_combined\u001b[0m\u001b[0;34m[\u001b[0m\u001b[0;34m'total_undergrad'\u001b[0m\u001b[0;34m]\u001b[0m\u001b[0;34m]\u001b[0m\u001b[0;34m\u001b[0m\u001b[0;34m\u001b[0m\u001b[0m\n\u001b[0m\u001b[1;32m      2\u001b[0m \u001b[0mearly_car\u001b[0m \u001b[0;34m=\u001b[0m\u001b[0mdf_combined\u001b[0m\u001b[0;34m.\u001b[0m\u001b[0mearly_car_pay\u001b[0m\u001b[0;34m.\u001b[0m\u001b[0mtolist\u001b[0m\u001b[0;34m(\u001b[0m\u001b[0;34m)\u001b[0m\u001b[0;34m\u001b[0m\u001b[0;34m\u001b[0m\u001b[0m\n\u001b[1;32m      3\u001b[0m \u001b[0mmid_car\u001b[0m \u001b[0;34m=\u001b[0m \u001b[0mdf_combined\u001b[0m\u001b[0;34m.\u001b[0m\u001b[0mmid_car_pay\u001b[0m\u001b[0;34m.\u001b[0m\u001b[0mtolist\u001b[0m\u001b[0;34m(\u001b[0m\u001b[0;34m)\u001b[0m\u001b[0;34m\u001b[0m\u001b[0;34m\u001b[0m\u001b[0m\n\u001b[1;32m      4\u001b[0m \u001b[0mprint\u001b[0m\u001b[0;34m(\u001b[0m\u001b[0mlen\u001b[0m\u001b[0;34m(\u001b[0m\u001b[0mundergrad\u001b[0m\u001b[0;34m)\u001b[0m\u001b[0;34m)\u001b[0m\u001b[0;34m\u001b[0m\u001b[0;34m\u001b[0m\u001b[0m\n\u001b[1;32m      5\u001b[0m \u001b[0mprint\u001b[0m\u001b[0;34m(\u001b[0m\u001b[0mlen\u001b[0m\u001b[0;34m(\u001b[0m\u001b[0mearly_car\u001b[0m\u001b[0;34m)\u001b[0m\u001b[0;34m)\u001b[0m\u001b[0;34m\u001b[0m\u001b[0;34m\u001b[0m\u001b[0m\n",
      "\u001b[0;32m<ipython-input-95-4a853cf4c9bf>\u001b[0m in \u001b[0;36m<listcomp>\u001b[0;34m(.0)\u001b[0m\n\u001b[0;32m----> 1\u001b[0;31m \u001b[0mundergrad\u001b[0m \u001b[0;34m=\u001b[0m \u001b[0;34m[\u001b[0m\u001b[0mint\u001b[0m\u001b[0;34m(\u001b[0m\u001b[0mi\u001b[0m\u001b[0;34m)\u001b[0m \u001b[0;32mfor\u001b[0m \u001b[0mi\u001b[0m \u001b[0;32min\u001b[0m \u001b[0mdf_combined\u001b[0m\u001b[0;34m[\u001b[0m\u001b[0;34m'total_undergrad'\u001b[0m\u001b[0;34m]\u001b[0m\u001b[0;34m]\u001b[0m\u001b[0;34m\u001b[0m\u001b[0;34m\u001b[0m\u001b[0m\n\u001b[0m\u001b[1;32m      2\u001b[0m \u001b[0mearly_car\u001b[0m \u001b[0;34m=\u001b[0m\u001b[0mdf_combined\u001b[0m\u001b[0;34m.\u001b[0m\u001b[0mearly_car_pay\u001b[0m\u001b[0;34m.\u001b[0m\u001b[0mtolist\u001b[0m\u001b[0;34m(\u001b[0m\u001b[0;34m)\u001b[0m\u001b[0;34m\u001b[0m\u001b[0;34m\u001b[0m\u001b[0m\n\u001b[1;32m      3\u001b[0m \u001b[0mmid_car\u001b[0m \u001b[0;34m=\u001b[0m \u001b[0mdf_combined\u001b[0m\u001b[0;34m.\u001b[0m\u001b[0mmid_car_pay\u001b[0m\u001b[0;34m.\u001b[0m\u001b[0mtolist\u001b[0m\u001b[0;34m(\u001b[0m\u001b[0;34m)\u001b[0m\u001b[0;34m\u001b[0m\u001b[0;34m\u001b[0m\u001b[0m\n\u001b[1;32m      4\u001b[0m \u001b[0mprint\u001b[0m\u001b[0;34m(\u001b[0m\u001b[0mlen\u001b[0m\u001b[0;34m(\u001b[0m\u001b[0mundergrad\u001b[0m\u001b[0;34m)\u001b[0m\u001b[0;34m)\u001b[0m\u001b[0;34m\u001b[0m\u001b[0;34m\u001b[0m\u001b[0m\n\u001b[1;32m      5\u001b[0m \u001b[0mprint\u001b[0m\u001b[0;34m(\u001b[0m\u001b[0mlen\u001b[0m\u001b[0;34m(\u001b[0m\u001b[0mearly_car\u001b[0m\u001b[0;34m)\u001b[0m\u001b[0;34m)\u001b[0m\u001b[0;34m\u001b[0m\u001b[0;34m\u001b[0m\u001b[0m\n",
      "\u001b[0;31mTypeError\u001b[0m: int() argument must be a string, a bytes-like object or a number, not 'NoneType'"
     ]
    }
   ],
   "source": [
    "undergrad = [int(i) for i in df_combined['total_undergrad']] \n",
    "early_car =df_combined.early_car_pay.tolist()\n",
    "mid_car = df_combined.mid_car_pay.tolist()\n",
    "print(len(undergrad))\n",
    "print(len(early_car))\n",
    "print(len(mid_car))\n",
    "print(undergrad)\n",
    "print(early_car)\n",
    "print(mid_car)"
   ]
  },
  {
   "cell_type": "code",
   "execution_count": 91,
   "metadata": {},
   "outputs": [
    {
     "ename": "TypeError",
     "evalue": "None is not a string",
     "output_type": "error",
     "traceback": [
      "\u001b[0;31m---------------------------------------------------------------------------\u001b[0m",
      "\u001b[0;31mTypeError\u001b[0m                                 Traceback (most recent call last)",
      "\u001b[0;32m<ipython-input-91-0a2102d9dd03>\u001b[0m in \u001b[0;36m<module>\u001b[0;34m\u001b[0m\n\u001b[1;32m      1\u001b[0m \u001b[0mfig\u001b[0m \u001b[0;34m=\u001b[0m \u001b[0mplt\u001b[0m\u001b[0;34m.\u001b[0m\u001b[0mfigure\u001b[0m\u001b[0;34m(\u001b[0m\u001b[0mfigsize\u001b[0m\u001b[0;34m=\u001b[0m\u001b[0;34m(\u001b[0m\u001b[0;36m20\u001b[0m\u001b[0;34m,\u001b[0m\u001b[0;36m10\u001b[0m\u001b[0;34m)\u001b[0m\u001b[0;34m)\u001b[0m\u001b[0;34m\u001b[0m\u001b[0;34m\u001b[0m\u001b[0m\n\u001b[1;32m      2\u001b[0m \u001b[0max1\u001b[0m \u001b[0;34m=\u001b[0m \u001b[0mfig\u001b[0m\u001b[0;34m.\u001b[0m\u001b[0madd_subplot\u001b[0m\u001b[0;34m(\u001b[0m\u001b[0;36m111\u001b[0m\u001b[0;34m)\u001b[0m\u001b[0;34m\u001b[0m\u001b[0;34m\u001b[0m\u001b[0m\n\u001b[0;32m----> 3\u001b[0;31m \u001b[0max1\u001b[0m\u001b[0;34m.\u001b[0m\u001b[0mscatter\u001b[0m\u001b[0;34m(\u001b[0m\u001b[0mx\u001b[0m\u001b[0;34m=\u001b[0m\u001b[0mundergrad\u001b[0m\u001b[0;34m,\u001b[0m \u001b[0my\u001b[0m\u001b[0;34m=\u001b[0m\u001b[0mearly_car\u001b[0m\u001b[0;34m,\u001b[0m \u001b[0ms\u001b[0m\u001b[0;34m=\u001b[0m\u001b[0;36m50\u001b[0m\u001b[0;34m,\u001b[0m \u001b[0mc\u001b[0m\u001b[0;34m=\u001b[0m\u001b[0;34m'b'\u001b[0m\u001b[0;34m,\u001b[0m \u001b[0mmarker\u001b[0m\u001b[0;34m=\u001b[0m\u001b[0;34m\"s\"\u001b[0m\u001b[0;34m,\u001b[0m \u001b[0mlabel\u001b[0m\u001b[0;34m=\u001b[0m\u001b[0;34m\"num_Students_early_career\"\u001b[0m\u001b[0;34m,\u001b[0m \u001b[0malpha\u001b[0m \u001b[0;34m=\u001b[0m \u001b[0;36m0.5\u001b[0m\u001b[0;34m)\u001b[0m\u001b[0;34m\u001b[0m\u001b[0;34m\u001b[0m\u001b[0m\n\u001b[0m\u001b[1;32m      4\u001b[0m \u001b[0max1\u001b[0m\u001b[0;34m.\u001b[0m\u001b[0mscatter\u001b[0m\u001b[0;34m(\u001b[0m\u001b[0mx\u001b[0m\u001b[0;34m=\u001b[0m\u001b[0mundergrad\u001b[0m\u001b[0;34m,\u001b[0m \u001b[0my\u001b[0m\u001b[0;34m=\u001b[0m\u001b[0mmid_car\u001b[0m\u001b[0;34m,\u001b[0m \u001b[0ms\u001b[0m\u001b[0;34m=\u001b[0m\u001b[0;36m50\u001b[0m\u001b[0;34m,\u001b[0m \u001b[0mc\u001b[0m\u001b[0;34m=\u001b[0m\u001b[0;34m'r'\u001b[0m\u001b[0;34m,\u001b[0m \u001b[0mmarker\u001b[0m\u001b[0;34m=\u001b[0m\u001b[0;34m\"o\"\u001b[0m\u001b[0;34m,\u001b[0m \u001b[0mlabel\u001b[0m\u001b[0;34m=\u001b[0m\u001b[0;34m\"num-students_mid_career\"\u001b[0m\u001b[0;34m,\u001b[0m \u001b[0malpha\u001b[0m \u001b[0;34m=\u001b[0m \u001b[0;36m0.5\u001b[0m\u001b[0;34m)\u001b[0m\u001b[0;34m\u001b[0m\u001b[0;34m\u001b[0m\u001b[0m\n\u001b[1;32m      5\u001b[0m \u001b[0mplt\u001b[0m\u001b[0;34m.\u001b[0m\u001b[0mlegend\u001b[0m\u001b[0;34m(\u001b[0m\u001b[0mloc\u001b[0m\u001b[0;34m=\u001b[0m\u001b[0;34m'upper left'\u001b[0m\u001b[0;34m)\u001b[0m\u001b[0;34m\u001b[0m\u001b[0;34m\u001b[0m\u001b[0m\n",
      "\u001b[0;32m~/anaconda3/lib/python3.7/site-packages/matplotlib/__init__.py\u001b[0m in \u001b[0;36minner\u001b[0;34m(ax, data, *args, **kwargs)\u001b[0m\n\u001b[1;32m   1587\u001b[0m     \u001b[0;32mdef\u001b[0m \u001b[0minner\u001b[0m\u001b[0;34m(\u001b[0m\u001b[0max\u001b[0m\u001b[0;34m,\u001b[0m \u001b[0;34m*\u001b[0m\u001b[0margs\u001b[0m\u001b[0;34m,\u001b[0m \u001b[0mdata\u001b[0m\u001b[0;34m=\u001b[0m\u001b[0;32mNone\u001b[0m\u001b[0;34m,\u001b[0m \u001b[0;34m**\u001b[0m\u001b[0mkwargs\u001b[0m\u001b[0;34m)\u001b[0m\u001b[0;34m:\u001b[0m\u001b[0;34m\u001b[0m\u001b[0;34m\u001b[0m\u001b[0m\n\u001b[1;32m   1588\u001b[0m         \u001b[0;32mif\u001b[0m \u001b[0mdata\u001b[0m \u001b[0;32mis\u001b[0m \u001b[0;32mNone\u001b[0m\u001b[0;34m:\u001b[0m\u001b[0;34m\u001b[0m\u001b[0;34m\u001b[0m\u001b[0m\n\u001b[0;32m-> 1589\u001b[0;31m             \u001b[0;32mreturn\u001b[0m \u001b[0mfunc\u001b[0m\u001b[0;34m(\u001b[0m\u001b[0max\u001b[0m\u001b[0;34m,\u001b[0m \u001b[0;34m*\u001b[0m\u001b[0mmap\u001b[0m\u001b[0;34m(\u001b[0m\u001b[0msanitize_sequence\u001b[0m\u001b[0;34m,\u001b[0m \u001b[0margs\u001b[0m\u001b[0;34m)\u001b[0m\u001b[0;34m,\u001b[0m \u001b[0;34m**\u001b[0m\u001b[0mkwargs\u001b[0m\u001b[0;34m)\u001b[0m\u001b[0;34m\u001b[0m\u001b[0;34m\u001b[0m\u001b[0m\n\u001b[0m\u001b[1;32m   1590\u001b[0m \u001b[0;34m\u001b[0m\u001b[0m\n\u001b[1;32m   1591\u001b[0m         \u001b[0mbound\u001b[0m \u001b[0;34m=\u001b[0m \u001b[0mnew_sig\u001b[0m\u001b[0;34m.\u001b[0m\u001b[0mbind\u001b[0m\u001b[0;34m(\u001b[0m\u001b[0max\u001b[0m\u001b[0;34m,\u001b[0m \u001b[0;34m*\u001b[0m\u001b[0margs\u001b[0m\u001b[0;34m,\u001b[0m \u001b[0;34m**\u001b[0m\u001b[0mkwargs\u001b[0m\u001b[0;34m)\u001b[0m\u001b[0;34m\u001b[0m\u001b[0;34m\u001b[0m\u001b[0m\n",
      "\u001b[0;32m~/anaconda3/lib/python3.7/site-packages/matplotlib/axes/_axes.py\u001b[0m in \u001b[0;36mscatter\u001b[0;34m(self, x, y, s, c, marker, cmap, norm, vmin, vmax, alpha, linewidths, verts, edgecolors, plotnonfinite, **kwargs)\u001b[0m\n\u001b[1;32m   4424\u001b[0m         \u001b[0;31m# Process **kwargs to handle aliases, conflicts with explicit kwargs:\u001b[0m\u001b[0;34m\u001b[0m\u001b[0;34m\u001b[0m\u001b[0;34m\u001b[0m\u001b[0m\n\u001b[1;32m   4425\u001b[0m \u001b[0;34m\u001b[0m\u001b[0m\n\u001b[0;32m-> 4426\u001b[0;31m         \u001b[0mself\u001b[0m\u001b[0;34m.\u001b[0m\u001b[0m_process_unit_info\u001b[0m\u001b[0;34m(\u001b[0m\u001b[0mxdata\u001b[0m\u001b[0;34m=\u001b[0m\u001b[0mx\u001b[0m\u001b[0;34m,\u001b[0m \u001b[0mydata\u001b[0m\u001b[0;34m=\u001b[0m\u001b[0my\u001b[0m\u001b[0;34m,\u001b[0m \u001b[0mkwargs\u001b[0m\u001b[0;34m=\u001b[0m\u001b[0mkwargs\u001b[0m\u001b[0;34m)\u001b[0m\u001b[0;34m\u001b[0m\u001b[0;34m\u001b[0m\u001b[0m\n\u001b[0m\u001b[1;32m   4427\u001b[0m         \u001b[0mx\u001b[0m \u001b[0;34m=\u001b[0m \u001b[0mself\u001b[0m\u001b[0;34m.\u001b[0m\u001b[0mconvert_xunits\u001b[0m\u001b[0;34m(\u001b[0m\u001b[0mx\u001b[0m\u001b[0;34m)\u001b[0m\u001b[0;34m\u001b[0m\u001b[0;34m\u001b[0m\u001b[0m\n\u001b[1;32m   4428\u001b[0m         \u001b[0my\u001b[0m \u001b[0;34m=\u001b[0m \u001b[0mself\u001b[0m\u001b[0;34m.\u001b[0m\u001b[0mconvert_yunits\u001b[0m\u001b[0;34m(\u001b[0m\u001b[0my\u001b[0m\u001b[0;34m)\u001b[0m\u001b[0;34m\u001b[0m\u001b[0;34m\u001b[0m\u001b[0m\n",
      "\u001b[0;32m~/anaconda3/lib/python3.7/site-packages/matplotlib/axes/_base.py\u001b[0m in \u001b[0;36m_process_unit_info\u001b[0;34m(self, xdata, ydata, kwargs)\u001b[0m\n\u001b[1;32m   2121\u001b[0m             \u001b[0;32mreturn\u001b[0m \u001b[0mkwargs\u001b[0m\u001b[0;34m\u001b[0m\u001b[0;34m\u001b[0m\u001b[0m\n\u001b[1;32m   2122\u001b[0m \u001b[0;34m\u001b[0m\u001b[0m\n\u001b[0;32m-> 2123\u001b[0;31m         \u001b[0mkwargs\u001b[0m \u001b[0;34m=\u001b[0m \u001b[0m_process_single_axis\u001b[0m\u001b[0;34m(\u001b[0m\u001b[0mxdata\u001b[0m\u001b[0;34m,\u001b[0m \u001b[0mself\u001b[0m\u001b[0;34m.\u001b[0m\u001b[0mxaxis\u001b[0m\u001b[0;34m,\u001b[0m \u001b[0;34m'xunits'\u001b[0m\u001b[0;34m,\u001b[0m \u001b[0mkwargs\u001b[0m\u001b[0;34m)\u001b[0m\u001b[0;34m\u001b[0m\u001b[0;34m\u001b[0m\u001b[0m\n\u001b[0m\u001b[1;32m   2124\u001b[0m         \u001b[0mkwargs\u001b[0m \u001b[0;34m=\u001b[0m \u001b[0m_process_single_axis\u001b[0m\u001b[0;34m(\u001b[0m\u001b[0mydata\u001b[0m\u001b[0;34m,\u001b[0m \u001b[0mself\u001b[0m\u001b[0;34m.\u001b[0m\u001b[0myaxis\u001b[0m\u001b[0;34m,\u001b[0m \u001b[0;34m'yunits'\u001b[0m\u001b[0;34m,\u001b[0m \u001b[0mkwargs\u001b[0m\u001b[0;34m)\u001b[0m\u001b[0;34m\u001b[0m\u001b[0;34m\u001b[0m\u001b[0m\n\u001b[1;32m   2125\u001b[0m         \u001b[0;32mreturn\u001b[0m \u001b[0mkwargs\u001b[0m\u001b[0;34m\u001b[0m\u001b[0;34m\u001b[0m\u001b[0m\n",
      "\u001b[0;32m~/anaconda3/lib/python3.7/site-packages/matplotlib/axes/_base.py\u001b[0m in \u001b[0;36m_process_single_axis\u001b[0;34m(data, axis, unit_name, kwargs)\u001b[0m\n\u001b[1;32m   2104\u001b[0m                 \u001b[0;31m# We only need to update if there is nothing set yet.\u001b[0m\u001b[0;34m\u001b[0m\u001b[0;34m\u001b[0m\u001b[0;34m\u001b[0m\u001b[0m\n\u001b[1;32m   2105\u001b[0m                 \u001b[0;32mif\u001b[0m \u001b[0;32mnot\u001b[0m \u001b[0maxis\u001b[0m\u001b[0;34m.\u001b[0m\u001b[0mhave_units\u001b[0m\u001b[0;34m(\u001b[0m\u001b[0;34m)\u001b[0m\u001b[0;34m:\u001b[0m\u001b[0;34m\u001b[0m\u001b[0;34m\u001b[0m\u001b[0m\n\u001b[0;32m-> 2106\u001b[0;31m                     \u001b[0maxis\u001b[0m\u001b[0;34m.\u001b[0m\u001b[0mupdate_units\u001b[0m\u001b[0;34m(\u001b[0m\u001b[0mdata\u001b[0m\u001b[0;34m)\u001b[0m\u001b[0;34m\u001b[0m\u001b[0;34m\u001b[0m\u001b[0m\n\u001b[0m\u001b[1;32m   2107\u001b[0m \u001b[0;34m\u001b[0m\u001b[0m\n\u001b[1;32m   2108\u001b[0m             \u001b[0;31m# Check for units in the kwargs, and if present update axis\u001b[0m\u001b[0;34m\u001b[0m\u001b[0;34m\u001b[0m\u001b[0;34m\u001b[0m\u001b[0m\n",
      "\u001b[0;32m~/anaconda3/lib/python3.7/site-packages/matplotlib/axis.py\u001b[0m in \u001b[0;36mupdate_units\u001b[0;34m(self, data)\u001b[0m\n\u001b[1;32m   1492\u001b[0m         \u001b[0mneednew\u001b[0m \u001b[0;34m=\u001b[0m \u001b[0mself\u001b[0m\u001b[0;34m.\u001b[0m\u001b[0mconverter\u001b[0m \u001b[0;34m!=\u001b[0m \u001b[0mconverter\u001b[0m\u001b[0;34m\u001b[0m\u001b[0;34m\u001b[0m\u001b[0m\n\u001b[1;32m   1493\u001b[0m         \u001b[0mself\u001b[0m\u001b[0;34m.\u001b[0m\u001b[0mconverter\u001b[0m \u001b[0;34m=\u001b[0m \u001b[0mconverter\u001b[0m\u001b[0;34m\u001b[0m\u001b[0;34m\u001b[0m\u001b[0m\n\u001b[0;32m-> 1494\u001b[0;31m         \u001b[0mdefault\u001b[0m \u001b[0;34m=\u001b[0m \u001b[0mself\u001b[0m\u001b[0;34m.\u001b[0m\u001b[0mconverter\u001b[0m\u001b[0;34m.\u001b[0m\u001b[0mdefault_units\u001b[0m\u001b[0;34m(\u001b[0m\u001b[0mdata\u001b[0m\u001b[0;34m,\u001b[0m \u001b[0mself\u001b[0m\u001b[0;34m)\u001b[0m\u001b[0;34m\u001b[0m\u001b[0;34m\u001b[0m\u001b[0m\n\u001b[0m\u001b[1;32m   1495\u001b[0m         \u001b[0;32mif\u001b[0m \u001b[0mdefault\u001b[0m \u001b[0;32mis\u001b[0m \u001b[0;32mnot\u001b[0m \u001b[0;32mNone\u001b[0m \u001b[0;32mand\u001b[0m \u001b[0mself\u001b[0m\u001b[0;34m.\u001b[0m\u001b[0munits\u001b[0m \u001b[0;32mis\u001b[0m \u001b[0;32mNone\u001b[0m\u001b[0;34m:\u001b[0m\u001b[0;34m\u001b[0m\u001b[0;34m\u001b[0m\u001b[0m\n\u001b[1;32m   1496\u001b[0m             \u001b[0mself\u001b[0m\u001b[0;34m.\u001b[0m\u001b[0mset_units\u001b[0m\u001b[0;34m(\u001b[0m\u001b[0mdefault\u001b[0m\u001b[0;34m)\u001b[0m\u001b[0;34m\u001b[0m\u001b[0;34m\u001b[0m\u001b[0m\n",
      "\u001b[0;32m~/anaconda3/lib/python3.7/site-packages/matplotlib/category.py\u001b[0m in \u001b[0;36mdefault_units\u001b[0;34m(data, axis)\u001b[0m\n\u001b[1;32m    113\u001b[0m         \u001b[0;31m# default_units->axis_info->convert\u001b[0m\u001b[0;34m\u001b[0m\u001b[0;34m\u001b[0m\u001b[0;34m\u001b[0m\u001b[0m\n\u001b[1;32m    114\u001b[0m         \u001b[0;32mif\u001b[0m \u001b[0maxis\u001b[0m\u001b[0;34m.\u001b[0m\u001b[0munits\u001b[0m \u001b[0;32mis\u001b[0m \u001b[0;32mNone\u001b[0m\u001b[0;34m:\u001b[0m\u001b[0;34m\u001b[0m\u001b[0;34m\u001b[0m\u001b[0m\n\u001b[0;32m--> 115\u001b[0;31m             \u001b[0maxis\u001b[0m\u001b[0;34m.\u001b[0m\u001b[0mset_units\u001b[0m\u001b[0;34m(\u001b[0m\u001b[0mUnitData\u001b[0m\u001b[0;34m(\u001b[0m\u001b[0mdata\u001b[0m\u001b[0;34m)\u001b[0m\u001b[0;34m)\u001b[0m\u001b[0;34m\u001b[0m\u001b[0;34m\u001b[0m\u001b[0m\n\u001b[0m\u001b[1;32m    116\u001b[0m         \u001b[0;32melse\u001b[0m\u001b[0;34m:\u001b[0m\u001b[0;34m\u001b[0m\u001b[0;34m\u001b[0m\u001b[0m\n\u001b[1;32m    117\u001b[0m             \u001b[0maxis\u001b[0m\u001b[0;34m.\u001b[0m\u001b[0munits\u001b[0m\u001b[0;34m.\u001b[0m\u001b[0mupdate\u001b[0m\u001b[0;34m(\u001b[0m\u001b[0mdata\u001b[0m\u001b[0;34m)\u001b[0m\u001b[0;34m\u001b[0m\u001b[0;34m\u001b[0m\u001b[0m\n",
      "\u001b[0;32m~/anaconda3/lib/python3.7/site-packages/matplotlib/category.py\u001b[0m in \u001b[0;36m__init__\u001b[0;34m(self, data)\u001b[0m\n\u001b[1;32m    179\u001b[0m         \u001b[0mself\u001b[0m\u001b[0;34m.\u001b[0m\u001b[0m_counter\u001b[0m \u001b[0;34m=\u001b[0m \u001b[0mitertools\u001b[0m\u001b[0;34m.\u001b[0m\u001b[0mcount\u001b[0m\u001b[0;34m(\u001b[0m\u001b[0;34m)\u001b[0m\u001b[0;34m\u001b[0m\u001b[0;34m\u001b[0m\u001b[0m\n\u001b[1;32m    180\u001b[0m         \u001b[0;32mif\u001b[0m \u001b[0mdata\u001b[0m \u001b[0;32mis\u001b[0m \u001b[0;32mnot\u001b[0m \u001b[0;32mNone\u001b[0m\u001b[0;34m:\u001b[0m\u001b[0;34m\u001b[0m\u001b[0;34m\u001b[0m\u001b[0m\n\u001b[0;32m--> 181\u001b[0;31m             \u001b[0mself\u001b[0m\u001b[0;34m.\u001b[0m\u001b[0mupdate\u001b[0m\u001b[0;34m(\u001b[0m\u001b[0mdata\u001b[0m\u001b[0;34m)\u001b[0m\u001b[0;34m\u001b[0m\u001b[0;34m\u001b[0m\u001b[0m\n\u001b[0m\u001b[1;32m    182\u001b[0m \u001b[0;34m\u001b[0m\u001b[0m\n\u001b[1;32m    183\u001b[0m     \u001b[0;34m@\u001b[0m\u001b[0mstaticmethod\u001b[0m\u001b[0;34m\u001b[0m\u001b[0;34m\u001b[0m\u001b[0m\n",
      "\u001b[0;32m~/anaconda3/lib/python3.7/site-packages/matplotlib/category.py\u001b[0m in \u001b[0;36mupdate\u001b[0;34m(self, data)\u001b[0m\n\u001b[1;32m    216\u001b[0m             \u001b[0;31m# OrderedDict just iterates over unique values in data.\u001b[0m\u001b[0;34m\u001b[0m\u001b[0;34m\u001b[0m\u001b[0;34m\u001b[0m\u001b[0m\n\u001b[1;32m    217\u001b[0m             \u001b[0;32mif\u001b[0m \u001b[0;32mnot\u001b[0m \u001b[0misinstance\u001b[0m\u001b[0;34m(\u001b[0m\u001b[0mval\u001b[0m\u001b[0;34m,\u001b[0m \u001b[0;34m(\u001b[0m\u001b[0mstr\u001b[0m\u001b[0;34m,\u001b[0m \u001b[0mbytes\u001b[0m\u001b[0;34m)\u001b[0m\u001b[0;34m)\u001b[0m\u001b[0;34m:\u001b[0m\u001b[0;34m\u001b[0m\u001b[0;34m\u001b[0m\u001b[0m\n\u001b[0;32m--> 218\u001b[0;31m                 \u001b[0;32mraise\u001b[0m \u001b[0mTypeError\u001b[0m\u001b[0;34m(\u001b[0m\u001b[0;34m\"{val!r} is not a string\"\u001b[0m\u001b[0;34m.\u001b[0m\u001b[0mformat\u001b[0m\u001b[0;34m(\u001b[0m\u001b[0mval\u001b[0m\u001b[0;34m=\u001b[0m\u001b[0mval\u001b[0m\u001b[0;34m)\u001b[0m\u001b[0;34m)\u001b[0m\u001b[0;34m\u001b[0m\u001b[0;34m\u001b[0m\u001b[0m\n\u001b[0m\u001b[1;32m    219\u001b[0m             \u001b[0;32mif\u001b[0m \u001b[0mconvertible\u001b[0m\u001b[0;34m:\u001b[0m\u001b[0;34m\u001b[0m\u001b[0;34m\u001b[0m\u001b[0m\n\u001b[1;32m    220\u001b[0m                 \u001b[0;31m# this will only be called so long as convertible is True.\u001b[0m\u001b[0;34m\u001b[0m\u001b[0;34m\u001b[0m\u001b[0;34m\u001b[0m\u001b[0m\n",
      "\u001b[0;31mTypeError\u001b[0m: None is not a string"
     ]
    },
    {
     "data": {
      "image/png": "[encoded data removed]",
      "text/plain": [
       "<Figure size 1440x720 with 1 Axes>"
      ]
     },
     "metadata": {
      "needs_background": "light"
     },
     "output_type": "display_data"
    }
   ],
   "source": [
    "fig = plt.figure(figsize=(20,10))\n",
    "ax1 = fig.add_subplot(111)\n",
    "ax1.scatter(x=undergrad, y=early_car, s=50, c='b', marker=\"s\", label=\"num_Students_early_career\", alpha = 0.5)\n",
    "ax1.scatter(x=undergrad, y=mid_car, s=50, c='r', marker=\"o\", label=\"num-students_mid_career\", alpha = 0.5)\n",
    "plt.legend(loc='upper left')\n",
    "plt.ylabel('pay')\n",
    "plt.xlabel('Students in undergrad')\n",
    "plt.title('Students in Undergrad vs. Early and Mid Career Salaries')\n",
    "plt.rc('font', size=15)\n",
    "plt.show()"
   ]
  },
  {
   "cell_type": "code",
   "execution_count": null,
   "metadata": {},
   "outputs": [],
   "source": []
  }
 ],
 "metadata": {
  "kernelspec": {
   "display_name": "Python 3",
   "language": "python",
   "name": "python3"
  },
  "language_info": {
   "codemirror_mode": {
    "name": "ipython",
    "version": 3
   },
   "file_extension": ".py",
   "mimetype": "text/x-python",
   "name": "python",
   "nbconvert_exporter": "python",
   "pygments_lexer": "ipython3",
   "version": "3.7.3"
  }
 },
 "nbformat": 4,
 "nbformat_minor": 2
}
